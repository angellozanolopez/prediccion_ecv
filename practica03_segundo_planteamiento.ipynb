{
 "cells": [
  {
   "cell_type": "markdown",
   "id": "37f4c5db",
   "metadata": {
    "papermill": {
     "duration": 0.017752,
     "end_time": "2023-05-22T02:54:12.275202",
     "exception": false,
     "start_time": "2023-05-22T02:54:12.257450",
     "status": "completed"
    },
    "tags": []
   },
   "source": [
    "## Practica Nº3. Formación en Modelos Predictivos (I) ##\n",
    "(Segundo planteamiento)\n",
    "\n",
    "**Introducción**\n",
    "\n",
    "Las enfermedades cardiovasculares (ECV) son la principal causa de muerte en todo el mundo y\n",
    "se cobran aproximadamente 17,9 millones de vidas cada año, lo que representa el 31 % de\n",
    "todas las muertes en todo el mundo.\n",
    "La insuficiencia cardíaca es un evento común causado por ECV y este conjunto de datos\n",
    "contiene 12 características que pueden usarse para predecir la mortalidad por insuficiencia\n",
    "cardíaca.\n",
    "\n",
    "La mayoría de las enfermedades cardiovasculares se pueden prevenir abordando los factores\n",
    "de riesgo conductuales, como el tabaquismo, la dieta poco saludable y la obesidad, la\n",
    "inactividad física y el consumo nocivo de alcohol, mediante estrategias que abarquen a toda la\n",
    "población.\n",
    "\n",
    "Las personas con enfermedades cardiovasculares o que tienen un alto riesgo cardiovascular\n",
    "(por la presencia de uno o más factores de riesgo como hipertensión, diabetes, hiperlipidemia\n",
    "o enfermedad ya establecida) necesitan una detección y manejo temprano en el que un\n",
    "modelo de aprendizaje automático puede ser de gran ayuda.\n",
    "\n",
    "Se nos ha encargado crear un modelo predictivo para conocer si una persona podrá sufrir una\n",
    "ECV, y estimar el plazo de tiempo en que podría ocurrirle.\n",
    "Hemos recibido el dataset que verás a continuación, en formato CSV, para realizar el ejercicio.\n",
    "Acceso al dataset: https://apioverstand.es/training/dataset_heart.zip"
   ]
  },
  {
   "cell_type": "markdown",
   "id": "3f76b18b",
   "metadata": {
    "papermill": {
     "duration": 0.01584,
     "end_time": "2023-05-22T02:54:12.372101",
     "exception": false,
     "start_time": "2023-05-22T02:54:12.356261",
     "status": "completed"
    },
    "tags": []
   },
   "source": [
    "**Descripcion de las columnas**"
   ]
  },
  {
   "cell_type": "markdown",
   "id": "f926de66",
   "metadata": {
    "papermill": {
     "duration": 0.016492,
     "end_time": "2023-05-22T02:54:12.405208",
     "exception": false,
     "start_time": "2023-05-22T02:54:12.388716",
     "status": "completed"
    },
    "tags": []
   },
   "source": [
    "* age: Edad del paciente (40-95)\n",
    "* anaemia: Paciente con anemia. 1:SI, 0:NO\n",
    "* creatinine_phosphokinase: Nivel de la enzima CPK en la sangre (mcg/L) [23, ..., 7861]\n",
    "* diabetes: Paciente diabetico. 1:SI, 0:NO\n",
    "* ejection_fraction: Porcentaje de perdida de sangre (Porcentaje) [14, ..., 80]\n",
    "* high_blood_pressure: Presion arterial alta. 1:SI, 0:NO\n",
    "* platelets: Plaquetas en sangre kiloplaquetas/ml [25,01, ..., 850,00]\n",
    "* serum_creatinine: Nivel de creatinina en sangre mg/dL [0,50, ..., 9,40]\n",
    "* serum_sodium: Nivel de sodio en sangre mEq/L [114, ..., 148]\n",
    "* sex: Hombre: 1. Mujer: 0. \n",
    "* smoking: Fumador: 1. No fumador: 0\n",
    "* time: Periodo de seguimiento Días [4,...,285] **[2ª variable objetivo]**\n",
    "* DEATH_EVENT: Fallecido: 1. Sano: 0 **[1ª variable objetivo]**"
   ]
  },
  {
   "cell_type": "markdown",
   "id": "6cbec5d4",
   "metadata": {
    "papermill": {
     "duration": 0.015512,
     "end_time": "2023-05-22T02:54:12.500039",
     "exception": false,
     "start_time": "2023-05-22T02:54:12.484527",
     "status": "completed"
    },
    "tags": []
   },
   "source": [
    "**PASO 1. ANALISIS DE LOS DATOS**"
   ]
  },
  {
   "cell_type": "markdown",
   "id": "667957c8",
   "metadata": {
    "papermill": {
     "duration": 0.015185,
     "end_time": "2023-05-22T02:54:12.530864",
     "exception": false,
     "start_time": "2023-05-22T02:54:12.515679",
     "status": "completed"
    },
    "tags": []
   },
   "source": [
    "**1.1. Importar librerias**"
   ]
  },
  {
   "cell_type": "code",
   "execution_count": 1,
   "id": "86e0754a",
   "metadata": {
    "_kg_hide-input": false,
    "execution": {
     "iopub.execute_input": "2023-05-22T02:54:12.564148Z",
     "iopub.status.busy": "2023-05-22T02:54:12.563713Z",
     "iopub.status.idle": "2023-05-22T02:54:13.929943Z",
     "shell.execute_reply": "2023-05-22T02:54:13.928503Z"
    },
    "papermill": {
     "duration": 1.386699,
     "end_time": "2023-05-22T02:54:13.933150",
     "exception": false,
     "start_time": "2023-05-22T02:54:12.546451",
     "status": "completed"
    },
    "tags": []
   },
   "outputs": [],
   "source": [
    "import pandas as pd\n",
    "import numpy as np\n",
    "import matplotlib.pyplot as plt\n",
    "from sklearn.preprocessing import StandardScaler\n",
    "from sklearn.metrics.pairwise import cosine_similarity"
   ]
  },
  {
   "cell_type": "markdown",
   "id": "f7fbba1c",
   "metadata": {
    "papermill": {
     "duration": 0.0158,
     "end_time": "2023-05-22T02:54:13.965673",
     "exception": false,
     "start_time": "2023-05-22T02:54:13.949873",
     "status": "completed"
    },
    "tags": []
   },
   "source": [
    "**1.2. Importar dataset**"
   ]
  },
  {
   "cell_type": "code",
   "execution_count": 2,
   "id": "bb3157c7",
   "metadata": {
    "_kg_hide-input": false,
    "execution": {
     "iopub.execute_input": "2023-05-22T02:54:14.000273Z",
     "iopub.status.busy": "2023-05-22T02:54:13.999199Z",
     "iopub.status.idle": "2023-05-22T02:54:14.056326Z",
     "shell.execute_reply": "2023-05-22T02:54:14.054887Z"
    },
    "papermill": {
     "duration": 0.077791,
     "end_time": "2023-05-22T02:54:14.059716",
     "exception": false,
     "start_time": "2023-05-22T02:54:13.981925",
     "status": "completed"
    },
    "tags": []
   },
   "outputs": [
    {
     "data": {
      "text/html": [
       "<div>\n",
       "<style scoped>\n",
       "    .dataframe tbody tr th:only-of-type {\n",
       "        vertical-align: middle;\n",
       "    }\n",
       "\n",
       "    .dataframe tbody tr th {\n",
       "        vertical-align: top;\n",
       "    }\n",
       "\n",
       "    .dataframe thead th {\n",
       "        text-align: right;\n",
       "    }\n",
       "</style>\n",
       "<table border=\"1\" class=\"dataframe\">\n",
       "  <thead>\n",
       "    <tr style=\"text-align: right;\">\n",
       "      <th></th>\n",
       "      <th>age</th>\n",
       "      <th>anaemia</th>\n",
       "      <th>creatinine_phosphokinase</th>\n",
       "      <th>diabetes</th>\n",
       "      <th>ejection_fraction</th>\n",
       "      <th>high_blood_pressure</th>\n",
       "      <th>platelets</th>\n",
       "      <th>serum_creatinine</th>\n",
       "      <th>serum_sodium</th>\n",
       "      <th>sex</th>\n",
       "      <th>smoking</th>\n",
       "      <th>time</th>\n",
       "      <th>DEATH_EVENT</th>\n",
       "    </tr>\n",
       "  </thead>\n",
       "  <tbody>\n",
       "    <tr>\n",
       "      <th>164</th>\n",
       "      <td>45</td>\n",
       "      <td>0</td>\n",
       "      <td>2442</td>\n",
       "      <td>1</td>\n",
       "      <td>30</td>\n",
       "      <td>0</td>\n",
       "      <td>334000.0</td>\n",
       "      <td>1.1</td>\n",
       "      <td>139</td>\n",
       "      <td>1</td>\n",
       "      <td>0</td>\n",
       "      <td>129</td>\n",
       "      <td>1</td>\n",
       "    </tr>\n",
       "    <tr>\n",
       "      <th>198</th>\n",
       "      <td>50</td>\n",
       "      <td>1</td>\n",
       "      <td>582</td>\n",
       "      <td>1</td>\n",
       "      <td>20</td>\n",
       "      <td>1</td>\n",
       "      <td>279000.0</td>\n",
       "      <td>1.0</td>\n",
       "      <td>134</td>\n",
       "      <td>0</td>\n",
       "      <td>0</td>\n",
       "      <td>186</td>\n",
       "      <td>0</td>\n",
       "    </tr>\n",
       "    <tr>\n",
       "      <th>93</th>\n",
       "      <td>60</td>\n",
       "      <td>1</td>\n",
       "      <td>154</td>\n",
       "      <td>0</td>\n",
       "      <td>25</td>\n",
       "      <td>0</td>\n",
       "      <td>210000.0</td>\n",
       "      <td>1.7</td>\n",
       "      <td>135</td>\n",
       "      <td>1</td>\n",
       "      <td>0</td>\n",
       "      <td>82</td>\n",
       "      <td>1</td>\n",
       "    </tr>\n",
       "    <tr>\n",
       "      <th>197</th>\n",
       "      <td>65</td>\n",
       "      <td>0</td>\n",
       "      <td>167</td>\n",
       "      <td>0</td>\n",
       "      <td>30</td>\n",
       "      <td>0</td>\n",
       "      <td>259000.0</td>\n",
       "      <td>0.8</td>\n",
       "      <td>138</td>\n",
       "      <td>0</td>\n",
       "      <td>0</td>\n",
       "      <td>186</td>\n",
       "      <td>0</td>\n",
       "    </tr>\n",
       "    <tr>\n",
       "      <th>75</th>\n",
       "      <td>60</td>\n",
       "      <td>1</td>\n",
       "      <td>47</td>\n",
       "      <td>0</td>\n",
       "      <td>20</td>\n",
       "      <td>0</td>\n",
       "      <td>204000.0</td>\n",
       "      <td>0.7</td>\n",
       "      <td>139</td>\n",
       "      <td>1</td>\n",
       "      <td>1</td>\n",
       "      <td>73</td>\n",
       "      <td>1</td>\n",
       "    </tr>\n",
       "  </tbody>\n",
       "</table>\n",
       "</div>"
      ],
      "text/plain": [
       "     age  anaemia  creatinine_phosphokinase  diabetes  ejection_fraction  \\\n",
       "164   45        0                      2442         1                 30   \n",
       "198   50        1                       582         1                 20   \n",
       "93    60        1                       154         0                 25   \n",
       "197   65        0                       167         0                 30   \n",
       "75    60        1                        47         0                 20   \n",
       "\n",
       "     high_blood_pressure  platelets  serum_creatinine  serum_sodium  sex  \\\n",
       "164                    0   334000.0               1.1           139    1   \n",
       "198                    1   279000.0               1.0           134    0   \n",
       "93                     0   210000.0               1.7           135    1   \n",
       "197                    0   259000.0               0.8           138    0   \n",
       "75                     0   204000.0               0.7           139    1   \n",
       "\n",
       "     smoking  time  DEATH_EVENT  \n",
       "164        0   129            1  \n",
       "198        0   186            0  \n",
       "93         0    82            1  \n",
       "197        0   186            0  \n",
       "75         1    73            1  "
      ]
     },
     "execution_count": 2,
     "metadata": {},
     "output_type": "execute_result"
    }
   ],
   "source": [
    "path = 'heart_failure_clinical_records_dataset.csv'\n",
    "df = pd.read_csv(path)\n",
    "df.sample(5) # Mostramos algunos registros aleatorios"
   ]
  },
  {
   "cell_type": "markdown",
   "id": "5e894aab",
   "metadata": {
    "papermill": {
     "duration": 0.015826,
     "end_time": "2023-05-22T02:54:14.091738",
     "exception": false,
     "start_time": "2023-05-22T02:54:14.075912",
     "status": "completed"
    },
    "tags": []
   },
   "source": [
    "**1.3. Informacion del dataset**"
   ]
  },
  {
   "cell_type": "code",
   "execution_count": 3,
   "id": "5693c2c9",
   "metadata": {
    "_kg_hide-input": false,
    "execution": {
     "iopub.execute_input": "2023-05-22T02:54:14.125969Z",
     "iopub.status.busy": "2023-05-22T02:54:14.125521Z",
     "iopub.status.idle": "2023-05-22T02:54:14.153211Z",
     "shell.execute_reply": "2023-05-22T02:54:14.151825Z"
    },
    "papermill": {
     "duration": 0.048452,
     "end_time": "2023-05-22T02:54:14.156241",
     "exception": false,
     "start_time": "2023-05-22T02:54:14.107789",
     "status": "completed"
    },
    "tags": []
   },
   "outputs": [
    {
     "name": "stdout",
     "output_type": "stream",
     "text": [
      "<class 'pandas.core.frame.DataFrame'>\n",
      "RangeIndex: 299 entries, 0 to 298\n",
      "Data columns (total 13 columns):\n",
      " #   Column                    Non-Null Count  Dtype  \n",
      "---  ------                    --------------  -----  \n",
      " 0   age                       299 non-null    int64  \n",
      " 1   anaemia                   299 non-null    int64  \n",
      " 2   creatinine_phosphokinase  299 non-null    int64  \n",
      " 3   diabetes                  299 non-null    int64  \n",
      " 4   ejection_fraction         299 non-null    int64  \n",
      " 5   high_blood_pressure       299 non-null    int64  \n",
      " 6   platelets                 299 non-null    float64\n",
      " 7   serum_creatinine          299 non-null    float64\n",
      " 8   serum_sodium              299 non-null    int64  \n",
      " 9   sex                       299 non-null    int64  \n",
      " 10  smoking                   299 non-null    int64  \n",
      " 11  time                      299 non-null    int64  \n",
      " 12  DEATH_EVENT               299 non-null    int64  \n",
      "dtypes: float64(2), int64(11)\n",
      "memory usage: 30.5 KB\n"
     ]
    }
   ],
   "source": [
    "df.info()"
   ]
  },
  {
   "cell_type": "markdown",
   "id": "3a2ad8ce",
   "metadata": {
    "papermill": {
     "duration": 0.015855,
     "end_time": "2023-05-22T02:54:14.188515",
     "exception": false,
     "start_time": "2023-05-22T02:54:14.172660",
     "status": "completed"
    },
    "tags": []
   },
   "source": [
    "**PASO 2. PREPARACION DE LOS DATOS**"
   ]
  },
  {
   "cell_type": "markdown",
   "id": "ab317df1",
   "metadata": {
    "papermill": {
     "duration": 0.01603,
     "end_time": "2023-05-22T02:54:14.220716",
     "exception": false,
     "start_time": "2023-05-22T02:54:14.204686",
     "status": "completed"
    },
    "tags": []
   },
   "source": [
    "**2.1. Valores unicos en cada columna**"
   ]
  },
  {
   "cell_type": "code",
   "execution_count": 4,
   "id": "aaa049af",
   "metadata": {
    "_kg_hide-input": false,
    "execution": {
     "iopub.execute_input": "2023-05-22T02:54:14.255034Z",
     "iopub.status.busy": "2023-05-22T02:54:14.254603Z",
     "iopub.status.idle": "2023-05-22T02:54:14.266403Z",
     "shell.execute_reply": "2023-05-22T02:54:14.264702Z"
    },
    "papermill": {
     "duration": 0.03222,
     "end_time": "2023-05-22T02:54:14.269131",
     "exception": false,
     "start_time": "2023-05-22T02:54:14.236911",
     "status": "completed"
    },
    "tags": []
   },
   "outputs": [
    {
     "name": "stdout",
     "output_type": "stream",
     "text": [
      "age, 46\n",
      "anaemia, 2\n",
      "creatinine_phosphokinase, 208\n",
      "diabetes, 2\n",
      "ejection_fraction, 17\n",
      "high_blood_pressure, 2\n",
      "platelets, 176\n",
      "serum_creatinine, 40\n",
      "serum_sodium, 27\n",
      "sex, 2\n",
      "smoking, 2\n",
      "time, 148\n",
      "DEATH_EVENT, 2\n"
     ]
    }
   ],
   "source": [
    "for col in df.columns:\n",
    "    print(f'{col}, {len(df[col].unique())}')"
   ]
  },
  {
   "cell_type": "markdown",
   "id": "15c3e2b1",
   "metadata": {
    "papermill": {
     "duration": 0.016102,
     "end_time": "2023-05-22T02:54:14.302232",
     "exception": false,
     "start_time": "2023-05-22T02:54:14.286130",
     "status": "completed"
    },
    "tags": []
   },
   "source": [
    "**2.2. SEPARACION DE COLUMNAS SEGUN EL TIPO DE DATOS (NUMERICOS O CATEGORICOS)**"
   ]
  },
  {
   "cell_type": "code",
   "execution_count": 5,
   "id": "3945b5ed",
   "metadata": {
    "_kg_hide-input": false,
    "execution": {
     "iopub.execute_input": "2023-05-22T02:54:14.337753Z",
     "iopub.status.busy": "2023-05-22T02:54:14.336461Z",
     "iopub.status.idle": "2023-05-22T02:54:14.343262Z",
     "shell.execute_reply": "2023-05-22T02:54:14.341867Z"
    },
    "papermill": {
     "duration": 0.027674,
     "end_time": "2023-05-22T02:54:14.346239",
     "exception": false,
     "start_time": "2023-05-22T02:54:14.318565",
     "status": "completed"
    },
    "tags": []
   },
   "outputs": [],
   "source": [
    "cat_cols = ['anaemia', 'diabetes', 'high_blood_pressure', 'sex', 'smoking','DEATH_EVENT']\n",
    "num_cols = ['age', 'creatinine_phosphokinase', 'ejection_fraction', 'platelets', 'serum_creatinine', 'serum_sodium', 'time']"
   ]
  },
  {
   "cell_type": "markdown",
   "id": "af5b628e",
   "metadata": {
    "papermill": {
     "duration": 0.016052,
     "end_time": "2023-05-22T02:54:14.379416",
     "exception": false,
     "start_time": "2023-05-22T02:54:14.363364",
     "status": "completed"
    },
    "tags": []
   },
   "source": [
    "**2.3. Valores minimos, medios y maximos de las columnas numericas**"
   ]
  },
  {
   "cell_type": "code",
   "execution_count": 6,
   "id": "c070b36b",
   "metadata": {
    "_kg_hide-input": false,
    "execution": {
     "iopub.execute_input": "2023-05-22T02:54:14.414656Z",
     "iopub.status.busy": "2023-05-22T02:54:14.413747Z",
     "iopub.status.idle": "2023-05-22T02:54:14.456825Z",
     "shell.execute_reply": "2023-05-22T02:54:14.455377Z"
    },
    "papermill": {
     "duration": 0.064311,
     "end_time": "2023-05-22T02:54:14.460077",
     "exception": false,
     "start_time": "2023-05-22T02:54:14.395766",
     "status": "completed"
    },
    "tags": []
   },
   "outputs": [
    {
     "data": {
      "text/html": [
       "<div>\n",
       "<style scoped>\n",
       "    .dataframe tbody tr th:only-of-type {\n",
       "        vertical-align: middle;\n",
       "    }\n",
       "\n",
       "    .dataframe tbody tr th {\n",
       "        vertical-align: top;\n",
       "    }\n",
       "\n",
       "    .dataframe thead th {\n",
       "        text-align: right;\n",
       "    }\n",
       "</style>\n",
       "<table border=\"1\" class=\"dataframe\">\n",
       "  <thead>\n",
       "    <tr style=\"text-align: right;\">\n",
       "      <th></th>\n",
       "      <th>min</th>\n",
       "      <th>avg</th>\n",
       "      <th>max</th>\n",
       "    </tr>\n",
       "  </thead>\n",
       "  <tbody>\n",
       "    <tr>\n",
       "      <th>age</th>\n",
       "      <td>40.0</td>\n",
       "      <td>60.0</td>\n",
       "      <td>95.0</td>\n",
       "    </tr>\n",
       "    <tr>\n",
       "      <th>creatinine_phosphokinase</th>\n",
       "      <td>23.0</td>\n",
       "      <td>250.0</td>\n",
       "      <td>7861.0</td>\n",
       "    </tr>\n",
       "    <tr>\n",
       "      <th>ejection_fraction</th>\n",
       "      <td>14.0</td>\n",
       "      <td>38.0</td>\n",
       "      <td>80.0</td>\n",
       "    </tr>\n",
       "    <tr>\n",
       "      <th>platelets</th>\n",
       "      <td>25100.0</td>\n",
       "      <td>262000.0</td>\n",
       "      <td>850000.0</td>\n",
       "    </tr>\n",
       "    <tr>\n",
       "      <th>serum_creatinine</th>\n",
       "      <td>0.5</td>\n",
       "      <td>1.1</td>\n",
       "      <td>9.4</td>\n",
       "    </tr>\n",
       "    <tr>\n",
       "      <th>serum_sodium</th>\n",
       "      <td>113.0</td>\n",
       "      <td>137.0</td>\n",
       "      <td>148.0</td>\n",
       "    </tr>\n",
       "    <tr>\n",
       "      <th>time</th>\n",
       "      <td>4.0</td>\n",
       "      <td>115.0</td>\n",
       "      <td>285.0</td>\n",
       "    </tr>\n",
       "  </tbody>\n",
       "</table>\n",
       "</div>"
      ],
      "text/plain": [
       "                              min       avg       max\n",
       "age                          40.0      60.0      95.0\n",
       "creatinine_phosphokinase     23.0     250.0    7861.0\n",
       "ejection_fraction            14.0      38.0      80.0\n",
       "platelets                 25100.0  262000.0  850000.0\n",
       "serum_creatinine              0.5       1.1       9.4\n",
       "serum_sodium                113.0     137.0     148.0\n",
       "time                          4.0     115.0     285.0"
      ]
     },
     "execution_count": 6,
     "metadata": {},
     "output_type": "execute_result"
    }
   ],
   "source": [
    "df[num_cols].describe().T[['min', '50%','max']].rename(columns={'50%':'avg'})"
   ]
  },
  {
   "cell_type": "markdown",
   "id": "a8456c8d",
   "metadata": {
    "papermill": {
     "duration": 0.016469,
     "end_time": "2023-05-22T02:54:14.493392",
     "exception": false,
     "start_time": "2023-05-22T02:54:14.476923",
     "status": "completed"
    },
    "tags": []
   },
   "source": [
    "**PASO 3. ANALISIS EXPLORATORIO DE DATOS**"
   ]
  },
  {
   "cell_type": "markdown",
   "id": "4808e6a0",
   "metadata": {
    "papermill": {
     "duration": 0.018298,
     "end_time": "2023-05-22T02:54:15.588361",
     "exception": false,
     "start_time": "2023-05-22T02:54:15.570063",
     "status": "completed"
    },
    "tags": []
   },
   "source": [
    "**3.1. Distribucion de las caracteristicas mas influyentes sobre la variable objetivo (DEATH_EVENT)**"
   ]
  },
  {
   "cell_type": "code",
   "execution_count": 7,
   "id": "b78c7998",
   "metadata": {
    "_kg_hide-input": false,
    "execution": {
     "iopub.execute_input": "2023-05-22T02:54:15.628397Z",
     "iopub.status.busy": "2023-05-22T02:54:15.627578Z",
     "iopub.status.idle": "2023-05-22T02:54:17.372964Z",
     "shell.execute_reply": "2023-05-22T02:54:17.371853Z"
    },
    "papermill": {
     "duration": 1.772162,
     "end_time": "2023-05-22T02:54:17.379076",
     "exception": false,
     "start_time": "2023-05-22T02:54:15.606914",
     "status": "completed"
    },
    "tags": []
   },
   "outputs": [
    {
     "data": {
      "image/png": "[encoded data removed]",
      "text/plain": [
       "<Figure size 1000x600 with 1 Axes>"
      ]
     },
     "metadata": {},
     "output_type": "display_data"
    }
   ],
   "source": [
    "# Calcula la correlación entre las variables y el evento de muerte\n",
    "corr = df.corr()['DEATH_EVENT'].abs().sort_values(ascending=False)\n",
    "\n",
    "# Filtra las variables que tienen una correlación mayor a 0.1 (puedes ajustar este umbral)\n",
    "relevant_variables = corr[corr > 0.1]\n",
    "\n",
    "# Ordena las variables por correlación en orden descendente\n",
    "relevant_variables = relevant_variables.sort_values(ascending=False)\n",
    "\n",
    "# Define un mapa de color que vaya de azul (0) a rojo (1) basado en los valores de correlación\n",
    "color_map = plt.cm.RdYlBu(np.linspace(0, 1, len(relevant_variables)))\n",
    "\n",
    "# Crea una gráfica de barras con colores basados en el mapa de color\n",
    "plt.figure(figsize=(10, 6))\n",
    "bars = plt.bar(relevant_variables.index, relevant_variables.values, color=color_map, edgecolor='black')\n",
    "plt.xlabel('Variables')\n",
    "plt.ylabel('Correlación con DEATH_EVENT (Valor Absoluto)')\n",
    "plt.title('Correlación entre Variables y el Evento de Muerte')\n",
    "\n",
    "# Agrega el índice de cada variable en medio de sus respectivas barras en color negro\n",
    "for bar, color in zip(bars, color_map):\n",
    "    yval = bar.get_height()\n",
    "    plt.text(bar.get_x() + bar.get_width() / 2, yval, round(yval, 2), ha='center', va='bottom', color='black')\n",
    "\n",
    "plt.xticks(rotation=45)\n",
    "plt.tight_layout()\n",
    "\n",
    "plt.show()"
   ]
  },
  {
   "cell_type": "code",
   "execution_count": 8,
   "id": "2e6460ca",
   "metadata": {
    "_kg_hide-input": false,
    "execution": {
     "iopub.execute_input": "2023-05-22T02:54:17.475680Z",
     "iopub.status.busy": "2023-05-22T02:54:17.474721Z",
     "iopub.status.idle": "2023-05-22T02:54:17.487184Z",
     "shell.execute_reply": "2023-05-22T02:54:17.485631Z"
    },
    "papermill": {
     "duration": 0.04034,
     "end_time": "2023-05-22T02:54:17.490175",
     "exception": false,
     "start_time": "2023-05-22T02:54:17.449835",
     "status": "completed"
    },
    "tags": []
   },
   "outputs": [
    {
     "data": {
      "text/plain": [
       "time                -0.526964\n",
       "ejection_fraction   -0.268603\n",
       "serum_sodium        -0.195204\n",
       "age                  0.253581\n",
       "serum_creatinine     0.294278\n",
       "DEATH_EVENT          1.000000\n",
       "Name: DEATH_EVENT, dtype: float64"
      ]
     },
     "execution_count": 8,
     "metadata": {},
     "output_type": "execute_result"
    }
   ],
   "source": [
    "# Igual al anterior en formato texto\n",
    "corr = df.corr()\n",
    "corr[abs(corr['DEATH_EVENT']) > 0.1]['DEATH_EVENT'].sort_values()"
   ]
  },
  {
   "cell_type": "markdown",
   "metadata": {},
   "source": [
    "**3.2. ELIMINAR LAS COLUMNAS MENOS RELEVANTES**"
   ]
  },
  {
   "cell_type": "code",
   "execution_count": 9,
   "id": "28dcc461",
   "metadata": {
    "_kg_hide-input": false,
    "execution": {
     "iopub.execute_input": "2023-05-22T02:54:18.953634Z",
     "iopub.status.busy": "2023-05-22T02:54:18.953140Z",
     "iopub.status.idle": "2023-05-22T02:54:18.964682Z",
     "shell.execute_reply": "2023-05-22T02:54:18.962817Z"
    },
    "papermill": {
     "duration": 0.042093,
     "end_time": "2023-05-22T02:54:18.967429",
     "exception": false,
     "start_time": "2023-05-22T02:54:18.925336",
     "status": "completed"
    },
    "tags": []
   },
   "outputs": [
    {
     "name": "stdout",
     "output_type": "stream",
     "text": [
      "Categorical:  ['anaemia', 'high_blood_pressure', 'DEATH_EVENT']\n",
      "Numurical:  ['age', 'creatinine_phosphokinase', 'ejection_fraction', 'serum_creatinine', 'serum_sodium', 'time']\n"
     ]
    }
   ],
   "source": [
    "# Eliminamos columnas que menos relacion tienen con la variable objetivo.\n",
    "# Recorremos el bucle para eliminar de ambas listas, tanto categoricas como numericas\n",
    "rem_cols = ['platelets', 'smoking', 'sex', 'diabetes']\n",
    "\n",
    "for e in rem_cols:\n",
    "    if df[e].nunique()>5:\n",
    "        num_cols.remove(e)\n",
    "    else:\n",
    "        cat_cols.remove(e)\n",
    "        \n",
    "df = df.drop(rem_cols, axis=1)\n",
    "\n",
    "print(\"Categorical: \",cat_cols)\n",
    "print(\"Numurical: \",num_cols)"
   ]
  },
  {
   "cell_type": "markdown",
   "metadata": {},
   "source": [
    "**3.3. COPIA DEL DATAFRAME ORIGINAL**"
   ]
  },
  {
   "cell_type": "code",
   "execution_count": 10,
   "metadata": {},
   "outputs": [
    {
     "data": {
      "text/html": [
       "<div>\n",
       "<style scoped>\n",
       "    .dataframe tbody tr th:only-of-type {\n",
       "        vertical-align: middle;\n",
       "    }\n",
       "\n",
       "    .dataframe tbody tr th {\n",
       "        vertical-align: top;\n",
       "    }\n",
       "\n",
       "    .dataframe thead th {\n",
       "        text-align: right;\n",
       "    }\n",
       "</style>\n",
       "<table border=\"1\" class=\"dataframe\">\n",
       "  <thead>\n",
       "    <tr style=\"text-align: right;\">\n",
       "      <th></th>\n",
       "      <th>age</th>\n",
       "      <th>anaemia</th>\n",
       "      <th>creatinine_phosphokinase</th>\n",
       "      <th>ejection_fraction</th>\n",
       "      <th>high_blood_pressure</th>\n",
       "      <th>serum_creatinine</th>\n",
       "      <th>serum_sodium</th>\n",
       "      <th>time</th>\n",
       "      <th>DEATH_EVENT</th>\n",
       "    </tr>\n",
       "  </thead>\n",
       "  <tbody>\n",
       "    <tr>\n",
       "      <th>101</th>\n",
       "      <td>75</td>\n",
       "      <td>0</td>\n",
       "      <td>582</td>\n",
       "      <td>45</td>\n",
       "      <td>1</td>\n",
       "      <td>1.18</td>\n",
       "      <td>137</td>\n",
       "      <td>87</td>\n",
       "      <td>0</td>\n",
       "    </tr>\n",
       "    <tr>\n",
       "      <th>56</th>\n",
       "      <td>70</td>\n",
       "      <td>1</td>\n",
       "      <td>75</td>\n",
       "      <td>35</td>\n",
       "      <td>0</td>\n",
       "      <td>2.70</td>\n",
       "      <td>138</td>\n",
       "      <td>54</td>\n",
       "      <td>0</td>\n",
       "    </tr>\n",
       "    <tr>\n",
       "      <th>75</th>\n",
       "      <td>60</td>\n",
       "      <td>1</td>\n",
       "      <td>47</td>\n",
       "      <td>20</td>\n",
       "      <td>0</td>\n",
       "      <td>0.70</td>\n",
       "      <td>139</td>\n",
       "      <td>73</td>\n",
       "      <td>1</td>\n",
       "    </tr>\n",
       "    <tr>\n",
       "      <th>254</th>\n",
       "      <td>53</td>\n",
       "      <td>1</td>\n",
       "      <td>446</td>\n",
       "      <td>60</td>\n",
       "      <td>1</td>\n",
       "      <td>1.00</td>\n",
       "      <td>139</td>\n",
       "      <td>215</td>\n",
       "      <td>0</td>\n",
       "    </tr>\n",
       "    <tr>\n",
       "      <th>20</th>\n",
       "      <td>65</td>\n",
       "      <td>1</td>\n",
       "      <td>52</td>\n",
       "      <td>25</td>\n",
       "      <td>1</td>\n",
       "      <td>1.30</td>\n",
       "      <td>137</td>\n",
       "      <td>16</td>\n",
       "      <td>0</td>\n",
       "    </tr>\n",
       "  </tbody>\n",
       "</table>\n",
       "</div>"
      ],
      "text/plain": [
       "     age  anaemia  creatinine_phosphokinase  ejection_fraction  \\\n",
       "101   75        0                       582                 45   \n",
       "56    70        1                        75                 35   \n",
       "75    60        1                        47                 20   \n",
       "254   53        1                       446                 60   \n",
       "20    65        1                        52                 25   \n",
       "\n",
       "     high_blood_pressure  serum_creatinine  serum_sodium  time  DEATH_EVENT  \n",
       "101                    1              1.18           137    87            0  \n",
       "56                     0              2.70           138    54            0  \n",
       "75                     0              0.70           139    73            1  \n",
       "254                    1              1.00           139   215            0  \n",
       "20                     1              1.30           137    16            0  "
      ]
     },
     "execution_count": 10,
     "metadata": {},
     "output_type": "execute_result"
    }
   ],
   "source": [
    "# Despues de eliminar las columnas menos relevantes y antes de normalizar los datos\n",
    "# hacemos copia del df porque la vamos a necesitar mas adelante para estimar la variable tiempo\n",
    "df_reducido = df\n",
    "df_reducido.sample(5)"
   ]
  },
  {
   "cell_type": "markdown",
   "id": "5bcd5628",
   "metadata": {
    "papermill": {
     "duration": 0.025422,
     "end_time": "2023-05-22T02:54:19.018633",
     "exception": false,
     "start_time": "2023-05-22T02:54:18.993211",
     "status": "completed"
    },
    "tags": []
   },
   "source": [
    "**PASO 4. PRE-PROCESAMIENTO DE LOS DATOS**"
   ]
  },
  {
   "cell_type": "markdown",
   "id": "a3b87d15",
   "metadata": {
    "papermill": {
     "duration": 0.025659,
     "end_time": "2023-05-22T02:54:19.070142",
     "exception": false,
     "start_time": "2023-05-22T02:54:19.044483",
     "status": "completed"
    },
    "tags": []
   },
   "source": [
    "**4.1. Escalado de caracteristicas**"
   ]
  },
  {
   "cell_type": "code",
   "execution_count": 11,
   "id": "cd3154ac",
   "metadata": {
    "execution": {
     "iopub.execute_input": "2023-05-22T02:54:19.123680Z",
     "iopub.status.busy": "2023-05-22T02:54:19.122743Z",
     "iopub.status.idle": "2023-05-22T02:54:19.335760Z",
     "shell.execute_reply": "2023-05-22T02:54:19.334385Z"
    },
    "papermill": {
     "duration": 0.243359,
     "end_time": "2023-05-22T02:54:19.338849",
     "exception": false,
     "start_time": "2023-05-22T02:54:19.095490",
     "status": "completed"
    },
    "tags": []
   },
   "outputs": [
    {
     "data": {
      "text/html": [
       "<div>\n",
       "<style scoped>\n",
       "    .dataframe tbody tr th:only-of-type {\n",
       "        vertical-align: middle;\n",
       "    }\n",
       "\n",
       "    .dataframe tbody tr th {\n",
       "        vertical-align: top;\n",
       "    }\n",
       "\n",
       "    .dataframe thead th {\n",
       "        text-align: right;\n",
       "    }\n",
       "</style>\n",
       "<table border=\"1\" class=\"dataframe\">\n",
       "  <thead>\n",
       "    <tr style=\"text-align: right;\">\n",
       "      <th></th>\n",
       "      <th>age</th>\n",
       "      <th>creatinine_phosphokinase</th>\n",
       "      <th>ejection_fraction</th>\n",
       "      <th>serum_creatinine</th>\n",
       "      <th>serum_sodium</th>\n",
       "      <th>time</th>\n",
       "    </tr>\n",
       "  </thead>\n",
       "  <tbody>\n",
       "    <tr>\n",
       "      <th>0</th>\n",
       "      <td>1.193302</td>\n",
       "      <td>0.000166</td>\n",
       "      <td>-1.530560</td>\n",
       "      <td>0.490057</td>\n",
       "      <td>-1.504036</td>\n",
       "      <td>-1.629502</td>\n",
       "    </tr>\n",
       "    <tr>\n",
       "      <th>1</th>\n",
       "      <td>-0.490896</td>\n",
       "      <td>7.514640</td>\n",
       "      <td>-0.007077</td>\n",
       "      <td>-0.284552</td>\n",
       "      <td>-0.141976</td>\n",
       "      <td>-1.603691</td>\n",
       "    </tr>\n",
       "    <tr>\n",
       "      <th>2</th>\n",
       "      <td>0.351203</td>\n",
       "      <td>-0.449939</td>\n",
       "      <td>-1.530560</td>\n",
       "      <td>-0.090900</td>\n",
       "      <td>-1.731046</td>\n",
       "      <td>-1.590785</td>\n",
       "    </tr>\n",
       "    <tr>\n",
       "      <th>3</th>\n",
       "      <td>-0.911945</td>\n",
       "      <td>-0.486071</td>\n",
       "      <td>-1.530560</td>\n",
       "      <td>0.490057</td>\n",
       "      <td>0.085034</td>\n",
       "      <td>-1.590785</td>\n",
       "    </tr>\n",
       "    <tr>\n",
       "      <th>4</th>\n",
       "      <td>0.351203</td>\n",
       "      <td>-0.435486</td>\n",
       "      <td>-1.530560</td>\n",
       "      <td>1.264666</td>\n",
       "      <td>-4.682176</td>\n",
       "      <td>-1.577879</td>\n",
       "    </tr>\n",
       "  </tbody>\n",
       "</table>\n",
       "</div>"
      ],
      "text/plain": [
       "        age  creatinine_phosphokinase  ejection_fraction  serum_creatinine  \\\n",
       "0  1.193302                  0.000166          -1.530560          0.490057   \n",
       "1 -0.490896                  7.514640          -0.007077         -0.284552   \n",
       "2  0.351203                 -0.449939          -1.530560         -0.090900   \n",
       "3 -0.911945                 -0.486071          -1.530560          0.490057   \n",
       "4  0.351203                 -0.435486          -1.530560          1.264666   \n",
       "\n",
       "   serum_sodium      time  \n",
       "0     -1.504036 -1.629502  \n",
       "1     -0.141976 -1.603691  \n",
       "2     -1.731046 -1.590785  \n",
       "3      0.085034 -1.590785  \n",
       "4     -4.682176 -1.577879  "
      ]
     },
     "execution_count": 11,
     "metadata": {},
     "output_type": "execute_result"
    }
   ],
   "source": [
    "# Transformamos las escalas de caracteristicas de las columnas numericas\n",
    "# en el rango entre -1 y +1\n",
    "scaler = StandardScaler() # scaling in range [-1, 1]\n",
    "standard_df = scaler.fit_transform(df[num_cols])\n",
    "standard_df = pd.DataFrame(standard_df, columns=num_cols)\n",
    "standard_df.head()"
   ]
  },
  {
   "cell_type": "markdown",
   "id": "16f30ae8",
   "metadata": {
    "papermill": {
     "duration": 0.026567,
     "end_time": "2023-05-22T02:54:19.391956",
     "exception": false,
     "start_time": "2023-05-22T02:54:19.365389",
     "status": "completed"
    },
    "tags": []
   },
   "source": [
    "**4.2. Union de las columnas categoricas con las numericas en un solo dataframe**"
   ]
  },
  {
   "cell_type": "code",
   "execution_count": 12,
   "id": "3e829be2",
   "metadata": {
    "execution": {
     "iopub.execute_input": "2023-05-22T02:54:19.446898Z",
     "iopub.status.busy": "2023-05-22T02:54:19.446080Z",
     "iopub.status.idle": "2023-05-22T02:54:19.466830Z",
     "shell.execute_reply": "2023-05-22T02:54:19.465368Z"
    },
    "papermill": {
     "duration": 0.052102,
     "end_time": "2023-05-22T02:54:19.470127",
     "exception": false,
     "start_time": "2023-05-22T02:54:19.418025",
     "status": "completed"
    },
    "tags": []
   },
   "outputs": [
    {
     "data": {
      "text/html": [
       "<div>\n",
       "<style scoped>\n",
       "    .dataframe tbody tr th:only-of-type {\n",
       "        vertical-align: middle;\n",
       "    }\n",
       "\n",
       "    .dataframe tbody tr th {\n",
       "        vertical-align: top;\n",
       "    }\n",
       "\n",
       "    .dataframe thead th {\n",
       "        text-align: right;\n",
       "    }\n",
       "</style>\n",
       "<table border=\"1\" class=\"dataframe\">\n",
       "  <thead>\n",
       "    <tr style=\"text-align: right;\">\n",
       "      <th></th>\n",
       "      <th>age</th>\n",
       "      <th>creatinine_phosphokinase</th>\n",
       "      <th>ejection_fraction</th>\n",
       "      <th>serum_creatinine</th>\n",
       "      <th>serum_sodium</th>\n",
       "      <th>time</th>\n",
       "      <th>anaemia</th>\n",
       "      <th>high_blood_pressure</th>\n",
       "      <th>DEATH_EVENT</th>\n",
       "    </tr>\n",
       "  </thead>\n",
       "  <tbody>\n",
       "    <tr>\n",
       "      <th>0</th>\n",
       "      <td>1.193302</td>\n",
       "      <td>0.000166</td>\n",
       "      <td>-1.530560</td>\n",
       "      <td>0.490057</td>\n",
       "      <td>-1.504036</td>\n",
       "      <td>-1.629502</td>\n",
       "      <td>0</td>\n",
       "      <td>1</td>\n",
       "      <td>1</td>\n",
       "    </tr>\n",
       "    <tr>\n",
       "      <th>1</th>\n",
       "      <td>-0.490896</td>\n",
       "      <td>7.514640</td>\n",
       "      <td>-0.007077</td>\n",
       "      <td>-0.284552</td>\n",
       "      <td>-0.141976</td>\n",
       "      <td>-1.603691</td>\n",
       "      <td>0</td>\n",
       "      <td>0</td>\n",
       "      <td>1</td>\n",
       "    </tr>\n",
       "    <tr>\n",
       "      <th>2</th>\n",
       "      <td>0.351203</td>\n",
       "      <td>-0.449939</td>\n",
       "      <td>-1.530560</td>\n",
       "      <td>-0.090900</td>\n",
       "      <td>-1.731046</td>\n",
       "      <td>-1.590785</td>\n",
       "      <td>0</td>\n",
       "      <td>0</td>\n",
       "      <td>1</td>\n",
       "    </tr>\n",
       "    <tr>\n",
       "      <th>3</th>\n",
       "      <td>-0.911945</td>\n",
       "      <td>-0.486071</td>\n",
       "      <td>-1.530560</td>\n",
       "      <td>0.490057</td>\n",
       "      <td>0.085034</td>\n",
       "      <td>-1.590785</td>\n",
       "      <td>1</td>\n",
       "      <td>0</td>\n",
       "      <td>1</td>\n",
       "    </tr>\n",
       "    <tr>\n",
       "      <th>4</th>\n",
       "      <td>0.351203</td>\n",
       "      <td>-0.435486</td>\n",
       "      <td>-1.530560</td>\n",
       "      <td>1.264666</td>\n",
       "      <td>-4.682176</td>\n",
       "      <td>-1.577879</td>\n",
       "      <td>1</td>\n",
       "      <td>0</td>\n",
       "      <td>1</td>\n",
       "    </tr>\n",
       "  </tbody>\n",
       "</table>\n",
       "</div>"
      ],
      "text/plain": [
       "        age  creatinine_phosphokinase  ejection_fraction  serum_creatinine  \\\n",
       "0  1.193302                  0.000166          -1.530560          0.490057   \n",
       "1 -0.490896                  7.514640          -0.007077         -0.284552   \n",
       "2  0.351203                 -0.449939          -1.530560         -0.090900   \n",
       "3 -0.911945                 -0.486071          -1.530560          0.490057   \n",
       "4  0.351203                 -0.435486          -1.530560          1.264666   \n",
       "\n",
       "   serum_sodium      time  anaemia  high_blood_pressure  DEATH_EVENT  \n",
       "0     -1.504036 -1.629502        0                    1            1  \n",
       "1     -0.141976 -1.603691        0                    0            1  \n",
       "2     -1.731046 -1.590785        0                    0            1  \n",
       "3      0.085034 -1.590785        1                    0            1  \n",
       "4     -4.682176 -1.577879        1                    0            1  "
      ]
     },
     "execution_count": 12,
     "metadata": {},
     "output_type": "execute_result"
    }
   ],
   "source": [
    "df = standard_df.join(df[cat_cols])\n",
    "df.head()"
   ]
  },
  {
   "cell_type": "code",
   "execution_count": 13,
   "id": "59fcb877",
   "metadata": {},
   "outputs": [
    {
     "data": {
      "text/html": [
       "<div>\n",
       "<style scoped>\n",
       "    .dataframe tbody tr th:only-of-type {\n",
       "        vertical-align: middle;\n",
       "    }\n",
       "\n",
       "    .dataframe tbody tr th {\n",
       "        vertical-align: top;\n",
       "    }\n",
       "\n",
       "    .dataframe thead th {\n",
       "        text-align: right;\n",
       "    }\n",
       "</style>\n",
       "<table border=\"1\" class=\"dataframe\">\n",
       "  <thead>\n",
       "    <tr style=\"text-align: right;\">\n",
       "      <th></th>\n",
       "      <th>age</th>\n",
       "      <th>anaemia</th>\n",
       "      <th>creatinine_phosphokinase</th>\n",
       "      <th>ejection_fraction</th>\n",
       "      <th>high_blood_pressure</th>\n",
       "      <th>serum_creatinine</th>\n",
       "      <th>serum_sodium</th>\n",
       "      <th>time</th>\n",
       "      <th>DEATH_EVENT</th>\n",
       "    </tr>\n",
       "  </thead>\n",
       "  <tbody>\n",
       "    <tr>\n",
       "      <th>0</th>\n",
       "      <td>1.193302</td>\n",
       "      <td>0</td>\n",
       "      <td>0.000166</td>\n",
       "      <td>-1.530560</td>\n",
       "      <td>1</td>\n",
       "      <td>0.490057</td>\n",
       "      <td>-1.504036</td>\n",
       "      <td>-1.629502</td>\n",
       "      <td>1</td>\n",
       "    </tr>\n",
       "    <tr>\n",
       "      <th>1</th>\n",
       "      <td>-0.490896</td>\n",
       "      <td>0</td>\n",
       "      <td>7.514640</td>\n",
       "      <td>-0.007077</td>\n",
       "      <td>0</td>\n",
       "      <td>-0.284552</td>\n",
       "      <td>-0.141976</td>\n",
       "      <td>-1.603691</td>\n",
       "      <td>1</td>\n",
       "    </tr>\n",
       "    <tr>\n",
       "      <th>2</th>\n",
       "      <td>0.351203</td>\n",
       "      <td>0</td>\n",
       "      <td>-0.449939</td>\n",
       "      <td>-1.530560</td>\n",
       "      <td>0</td>\n",
       "      <td>-0.090900</td>\n",
       "      <td>-1.731046</td>\n",
       "      <td>-1.590785</td>\n",
       "      <td>1</td>\n",
       "    </tr>\n",
       "    <tr>\n",
       "      <th>3</th>\n",
       "      <td>-0.911945</td>\n",
       "      <td>1</td>\n",
       "      <td>-0.486071</td>\n",
       "      <td>-1.530560</td>\n",
       "      <td>0</td>\n",
       "      <td>0.490057</td>\n",
       "      <td>0.085034</td>\n",
       "      <td>-1.590785</td>\n",
       "      <td>1</td>\n",
       "    </tr>\n",
       "    <tr>\n",
       "      <th>4</th>\n",
       "      <td>0.351203</td>\n",
       "      <td>1</td>\n",
       "      <td>-0.435486</td>\n",
       "      <td>-1.530560</td>\n",
       "      <td>0</td>\n",
       "      <td>1.264666</td>\n",
       "      <td>-4.682176</td>\n",
       "      <td>-1.577879</td>\n",
       "      <td>1</td>\n",
       "    </tr>\n",
       "    <tr>\n",
       "      <th>...</th>\n",
       "      <td>...</td>\n",
       "      <td>...</td>\n",
       "      <td>...</td>\n",
       "      <td>...</td>\n",
       "      <td>...</td>\n",
       "      <td>...</td>\n",
       "      <td>...</td>\n",
       "      <td>...</td>\n",
       "      <td>...</td>\n",
       "    </tr>\n",
       "    <tr>\n",
       "      <th>294</th>\n",
       "      <td>0.098573</td>\n",
       "      <td>0</td>\n",
       "      <td>-0.537688</td>\n",
       "      <td>-0.007077</td>\n",
       "      <td>1</td>\n",
       "      <td>-0.284552</td>\n",
       "      <td>1.447094</td>\n",
       "      <td>1.803451</td>\n",
       "      <td>0</td>\n",
       "    </tr>\n",
       "    <tr>\n",
       "      <th>295</th>\n",
       "      <td>-0.490896</td>\n",
       "      <td>0</td>\n",
       "      <td>1.278215</td>\n",
       "      <td>-0.007077</td>\n",
       "      <td>0</td>\n",
       "      <td>-0.187726</td>\n",
       "      <td>0.539054</td>\n",
       "      <td>1.816357</td>\n",
       "      <td>0</td>\n",
       "    </tr>\n",
       "    <tr>\n",
       "      <th>296</th>\n",
       "      <td>-1.332995</td>\n",
       "      <td>0</td>\n",
       "      <td>1.525979</td>\n",
       "      <td>1.854958</td>\n",
       "      <td>0</td>\n",
       "      <td>-0.575031</td>\n",
       "      <td>0.312044</td>\n",
       "      <td>1.906697</td>\n",
       "      <td>0</td>\n",
       "    </tr>\n",
       "    <tr>\n",
       "      <th>297</th>\n",
       "      <td>-1.332995</td>\n",
       "      <td>0</td>\n",
       "      <td>1.890398</td>\n",
       "      <td>-0.007077</td>\n",
       "      <td>0</td>\n",
       "      <td>0.005926</td>\n",
       "      <td>0.766064</td>\n",
       "      <td>1.932509</td>\n",
       "      <td>0</td>\n",
       "    </tr>\n",
       "    <tr>\n",
       "      <th>298</th>\n",
       "      <td>-0.911945</td>\n",
       "      <td>0</td>\n",
       "      <td>-0.398321</td>\n",
       "      <td>0.585389</td>\n",
       "      <td>0</td>\n",
       "      <td>0.199578</td>\n",
       "      <td>-0.141976</td>\n",
       "      <td>1.997038</td>\n",
       "      <td>0</td>\n",
       "    </tr>\n",
       "  </tbody>\n",
       "</table>\n",
       "<p>299 rows × 9 columns</p>\n",
       "</div>"
      ],
      "text/plain": [
       "          age  anaemia  creatinine_phosphokinase  ejection_fraction  \\\n",
       "0    1.193302        0                  0.000166          -1.530560   \n",
       "1   -0.490896        0                  7.514640          -0.007077   \n",
       "2    0.351203        0                 -0.449939          -1.530560   \n",
       "3   -0.911945        1                 -0.486071          -1.530560   \n",
       "4    0.351203        1                 -0.435486          -1.530560   \n",
       "..        ...      ...                       ...                ...   \n",
       "294  0.098573        0                 -0.537688          -0.007077   \n",
       "295 -0.490896        0                  1.278215          -0.007077   \n",
       "296 -1.332995        0                  1.525979           1.854958   \n",
       "297 -1.332995        0                  1.890398          -0.007077   \n",
       "298 -0.911945        0                 -0.398321           0.585389   \n",
       "\n",
       "     high_blood_pressure  serum_creatinine  serum_sodium      time  \\\n",
       "0                      1          0.490057     -1.504036 -1.629502   \n",
       "1                      0         -0.284552     -0.141976 -1.603691   \n",
       "2                      0         -0.090900     -1.731046 -1.590785   \n",
       "3                      0          0.490057      0.085034 -1.590785   \n",
       "4                      0          1.264666     -4.682176 -1.577879   \n",
       "..                   ...               ...           ...       ...   \n",
       "294                    1         -0.284552      1.447094  1.803451   \n",
       "295                    0         -0.187726      0.539054  1.816357   \n",
       "296                    0         -0.575031      0.312044  1.906697   \n",
       "297                    0          0.005926      0.766064  1.932509   \n",
       "298                    0          0.199578     -0.141976  1.997038   \n",
       "\n",
       "     DEATH_EVENT  \n",
       "0              1  \n",
       "1              1  \n",
       "2              1  \n",
       "3              1  \n",
       "4              1  \n",
       "..           ...  \n",
       "294            0  \n",
       "295            0  \n",
       "296            0  \n",
       "297            0  \n",
       "298            0  \n",
       "\n",
       "[299 rows x 9 columns]"
      ]
     },
     "execution_count": 13,
     "metadata": {},
     "output_type": "execute_result"
    }
   ],
   "source": [
    "# Reordenacion de las columnas en el orden original\n",
    "df = df[['age', 'anaemia', 'creatinine_phosphokinase', 'ejection_fraction', 'high_blood_pressure', 'serum_creatinine', 'serum_sodium', 'time', 'DEATH_EVENT']]\n",
    "df"
   ]
  },
  {
   "cell_type": "markdown",
   "id": "00c71a65",
   "metadata": {
    "papermill": {
     "duration": 0.025827,
     "end_time": "2023-05-22T02:54:19.522557",
     "exception": false,
     "start_time": "2023-05-22T02:54:19.496730",
     "status": "completed"
    },
    "tags": []
   },
   "source": [
    "**4.3. Separacion de caracteristicas de la variable objetivo**"
   ]
  },
  {
   "cell_type": "code",
   "execution_count": 14,
   "id": "f5d72120",
   "metadata": {
    "execution": {
     "iopub.execute_input": "2023-05-22T02:54:19.577571Z",
     "iopub.status.busy": "2023-05-22T02:54:19.576633Z",
     "iopub.status.idle": "2023-05-22T02:54:19.583806Z",
     "shell.execute_reply": "2023-05-22T02:54:19.582617Z"
    },
    "papermill": {
     "duration": 0.037973,
     "end_time": "2023-05-22T02:54:19.586463",
     "exception": false,
     "start_time": "2023-05-22T02:54:19.548490",
     "status": "completed"
    },
    "tags": []
   },
   "outputs": [],
   "source": [
    "X = df.drop('DEATH_EVENT', axis=1)\n",
    "y = df['DEATH_EVENT']"
   ]
  },
  {
   "cell_type": "code",
   "execution_count": 15,
   "metadata": {},
   "outputs": [],
   "source": [
    "# DataFrame original: df_reducido\n",
    "# Crear un nuevo DataFrame sin la última columna 'DEATH_EVENT'\n",
    "df_red_sin_death = df_reducido.drop(columns=['DEATH_EVENT'])"
   ]
  },
  {
   "cell_type": "markdown",
   "metadata": {},
   "source": [
    "**5. EVALUACION DEL PACIENTE USANDO EL MODELO** *cosine_similarity*\n",
    "\n",
    "**5.1. Localizar el paciente con datos mas parecidos a nuestro paciente en prueba**"
   ]
  },
  {
   "cell_type": "code",
   "execution_count": 16,
   "metadata": {},
   "outputs": [
    {
     "name": "stdout",
     "output_type": "stream",
     "text": [
      "Datos del paciente a evaluar:       78.0, 1.0, 500.0, 19.0, 1.0, 4.9, 134.0, 36.0\n",
      "Datos del registro más coincidente: 80.0, 1.0, 553.0, 20.0, 1.0, 4.4, 133.0, 41.0\n",
      "El registro más similar es el registro 48 con una similitud de coseno del 99.96%.\n"
     ]
    }
   ],
   "source": [
    "# DATOS DE NUESTRO PACIENTE:\n",
    "# 1. Age of the patient (Years) [40, ..., 95]\n",
    "# 2. anaemia = # Decrease of red blood cells or hemoglobin (Boolean) 0, 1\n",
    "# 3. creatinine_phosphokinase: Level of the CPK enzyme in the blood (mcg/L) [23, ..., 7861]\n",
    "# 4. ejection_fraction = # Percentage of blood leaving (Percentage) [14, ..., 80]\n",
    "# 5. high_blood_pressure = # If a patient has hypertension (Boolean) 0, 1\n",
    "# 6. serum_creatinine = # Level of creatinine in the blood (mg/dL) [0.50, ..., 9.40]\n",
    "# 7. serum_sodium = # Level of sodium in the blood (mEq/L) [114, ..., 148]\n",
    "# 8. time = # Follow-up period (Days) [4,...,285]\n",
    "\n",
    "# DATOS DE NUESTRO PACIENTE (Modifique algunos numeros y compruebe resultados)\n",
    "# datos_paciente_2 = [75,0,400,20,1,1.9,129,4] # Registro 2 en el dataset original. (Paciente fallecido)\n",
    "datos_paciente_16 = [49,1,80,30,1,1,138,12] # Registro 16. (Paciente sano)\n",
    "datos_paciente_154 = [50,0,115,45,1,0.9,134,118] # Registro 154. (Paciente sano)\n",
    "datos_paciente_50 = [80,1,553,20,1,4.4,133,41] # Registro . (Paciente fallecido)\n",
    "\n",
    "# SELECCIONE AQUI CUALQUIERA DE LOS 4 EJEMPLOS ANTERIORES\n",
    "# paciente_a_evaluar = datos_paciente_154\n",
    "paciente_a_evaluar = [78,1,500,19,1,4.9,134,36] # Paciente 50 con algunas modificaciones\n",
    "\n",
    "# Convierte los datos del paciente a evaluar en un DataFrame\n",
    "paciente_a_evaluar_df = pd.DataFrame([paciente_a_evaluar], columns=df_red_sin_death.columns)\n",
    "\n",
    "# Inicializa un diccionario para almacenar la similitud de coseno\n",
    "similarity_dict = {}\n",
    "\n",
    "# Calcula la similitud de coseno entre el paciente a evaluar y todos los registros\n",
    "for index, registro in df_red_sin_death.iterrows():\n",
    "    registro_df = pd.DataFrame([registro], columns=df_red_sin_death.columns)\n",
    "    similarity_score = cosine_similarity(paciente_a_evaluar_df, registro_df)[0][0]\n",
    "    similarity_dict[index] = similarity_score\n",
    "\n",
    "# Encuentra el índice del registro más similar y su similitud\n",
    "registro_mas_similar = max(similarity_dict, key=similarity_dict.get)\n",
    "similitud_mas_similar = similarity_dict[registro_mas_similar]\n",
    "\n",
    "# Obtiene los datos del paciente a evaluar y del registro más coincidente en forma de listas\n",
    "datos_paciente_a_evaluar = ', '.join(map(str, paciente_a_evaluar_df.values[0]))\n",
    "datos_registro_mas_similar = ', '.join(map(str, df_red_sin_death.iloc[registro_mas_similar].values))\n",
    "\n",
    "# Imprime los datos en forma de listas\n",
    "print(\"Datos del paciente a evaluar:      \", datos_paciente_a_evaluar)\n",
    "print(\"Datos del registro más coincidente:\", datos_registro_mas_similar)\n",
    "print(f\"El registro más similar es el registro {registro_mas_similar} con una similitud de coseno del {similitud_mas_similar:.2%}.\")\n"
   ]
  },
  {
   "cell_type": "markdown",
   "metadata": {},
   "source": [
    "**5.2. DETERMINAR SI EL PACIENTE TIENE RIESGO DE SUFRIR UNA E.C.V. Y EL TIEMPO APROXIMADO**"
   ]
  },
  {
   "cell_type": "code",
   "execution_count": 17,
   "metadata": {},
   "outputs": [
    {
     "name": "stdout",
     "output_type": "stream",
     "text": [
      "El registro más similar (registro 48) tiene un valor de 'DEATH_EVENT' igual a 1.\n",
      "RESULTADO FINAL: Por tanto, el paciente tiene un 99.96% de probabilidades de sufrir una ECV en 41 dias\n"
     ]
    }
   ],
   "source": [
    "# Número del registro más similar\n",
    "registro_mas_similar_numero = registro_mas_similar\n",
    "\n",
    "# Consulta el valor de 'DEATH_EVENT' en el DataFrame df_reducido para el registro más similar\n",
    "valor_death_event = df_reducido.loc[registro_mas_similar_numero, 'DEATH_EVENT']\n",
    "\n",
    "# Imprime el resultado final\n",
    "if valor_death_event == 0:\n",
    "    print(f\"El registro más similar (registro {registro_mas_similar_numero}) tiene un valor de 'DEATH_EVENT' igual a 0.\")\n",
    "    print(\"RESULTADO FINAL: Por tanto, el paciente no tiene riesgo de sufrir una ECV\")\n",
    "else:\n",
    "    valor_time = datos_registro_mas_similar.split(', ')[7]    \n",
    "    # Convierte el valor de 'time' a un número de punto flotante\n",
    "    valor_time_float = float(valor_time)\n",
    "    # Luego, convierte el valor de 'time' a un número entero\n",
    "    valor_time_entero = int(valor_time_float)\n",
    "\n",
    "    print(f\"El registro más similar (registro {registro_mas_similar_numero}) tiene un valor de 'DEATH_EVENT' igual a 1.\")\n",
    "    print(f\"RESULTADO FINAL: Por tanto, el paciente tiene un {similitud_mas_similar:.2%} de probabilidades de sufrir una ECV en {valor_time_entero} dias\")\n"
   ]
  }
 ],
 "metadata": {
  "kernelspec": {
   "display_name": "Python 3",
   "language": "python",
   "name": "python3"
  },
  "language_info": {
   "codemirror_mode": {
    "name": "ipython",
    "version": 3
   },
   "file_extension": ".py",
   "mimetype": "text/x-python",
   "name": "python",
   "nbconvert_exporter": "python",
   "pygments_lexer": "ipython3",
   "version": "3.11.4"
  },
  "papermill": {
   "default_parameters": {},
   "duration": 24.918529,
   "end_time": "2023-05-22T02:54:23.246221",
   "environment_variables": {},
   "exception": null,
   "input_path": "__notebook__.ipynb",
   "output_path": "__notebook__.ipynb",
   "parameters": {},
   "start_time": "2023-05-22T02:53:58.327692",
   "version": "2.4.0"
  }
 },
 "nbformat": 4,
 "nbformat_minor": 5
}
