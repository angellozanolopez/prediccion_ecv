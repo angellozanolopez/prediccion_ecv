{
 "cells": [
  {
   "cell_type": "markdown",
   "id": "37f4c5db",
   "metadata": {
    "papermill": {
     "duration": 0.017752,
     "end_time": "2023-05-22T02:54:12.275202",
     "exception": false,
     "start_time": "2023-05-22T02:54:12.257450",
     "status": "completed"
    },
    "tags": []
   },
   "source": [
    "## Practica Nº3. Formación en Modelos Predictivos (I) ##\n",
    "(Primer planteamiento)\n",
    "\n",
    "**Introducción**\n",
    "\n",
    "Las enfermedades cardiovasculares (ECV) son la principal causa de muerte en todo el mundo y\n",
    "se cobran aproximadamente 17,9 millones de vidas cada año, lo que representa el 31 % de\n",
    "todas las muertes en todo el mundo.\n",
    "La insuficiencia cardíaca es un evento común causado por ECV y este conjunto de datos\n",
    "contiene 12 características que pueden usarse para predecir la mortalidad por insuficiencia\n",
    "cardíaca.\n",
    "\n",
    "La mayoría de las enfermedades cardiovasculares se pueden prevenir abordando los factores\n",
    "de riesgo conductuales, como el tabaquismo, la dieta poco saludable y la obesidad, la\n",
    "inactividad física y el consumo nocivo de alcohol, mediante estrategias que abarquen a toda la\n",
    "población.\n",
    "\n",
    "Las personas con enfermedades cardiovasculares o que tienen un alto riesgo cardiovascular\n",
    "(por la presencia de uno o más factores de riesgo como hipertensión, diabetes, hiperlipidemia\n",
    "o enfermedad ya establecida) necesitan una detección y manejo temprano en el que un\n",
    "modelo de aprendizaje automático puede ser de gran ayuda.\n",
    "\n",
    "Se nos ha encargado crear un modelo predictivo para conocer si una persona podrá sufrir una\n",
    "ECV, y estimar el plazo de tiempo en que podría ocurrirle.\n",
    "Hemos recibido el dataset que verás a continuación, en formato CSV, para realizar el ejercicio.\n",
    "Acceso al dataset: https://apioverstand.es/training/dataset_heart.zip"
   ]
  },
  {
   "cell_type": "markdown",
   "id": "3f76b18b",
   "metadata": {
    "papermill": {
     "duration": 0.01584,
     "end_time": "2023-05-22T02:54:12.372101",
     "exception": false,
     "start_time": "2023-05-22T02:54:12.356261",
     "status": "completed"
    },
    "tags": []
   },
   "source": [
    "**Descripcion de las columnas**"
   ]
  },
  {
   "cell_type": "markdown",
   "id": "f926de66",
   "metadata": {
    "papermill": {
     "duration": 0.016492,
     "end_time": "2023-05-22T02:54:12.405208",
     "exception": false,
     "start_time": "2023-05-22T02:54:12.388716",
     "status": "completed"
    },
    "tags": []
   },
   "source": [
    "* age: Edad del paciente (40-95)\n",
    "* anaemia: Paciente con anemia. 1:SI, 0:NO\n",
    "* creatinine_phosphokinase: Nivel de la enzima CPK en la sangre (mcg/L) [23, ..., 7861]\n",
    "* diabetes: Paciente diabetico. 1:SI, 0:NO\n",
    "* ejection_fraction: Porcentaje de perdida de sangre (Porcentaje) [14, ..., 80]\n",
    "* high_blood_pressure: Presion arterial alta. 1:SI, 0:NO\n",
    "* platelets: Plaquetas en sangre kiloplaquetas/ml [25,01, ..., 850,00]\n",
    "* serum_creatinine: Nivel de creatinina en sangre mg/dL [0,50, ..., 9,40]\n",
    "* serum_sodium: Nivel de sodio en sangre mEq/L [114, ..., 148]\n",
    "* sex: Hombre: 1. Mujer: 0. \n",
    "* smoking: Fumador: 1. No fumador: 0\n",
    "* time: Periodo de seguimiento Días [4,...,285] **[2ª variable objetivo]**\n",
    "* DEATH_EVENT: Fallecido: 1. Sano: 0 **[1ª variable objetivo]**"
   ]
  },
  {
   "cell_type": "markdown",
   "id": "6cbec5d4",
   "metadata": {
    "papermill": {
     "duration": 0.015512,
     "end_time": "2023-05-22T02:54:12.500039",
     "exception": false,
     "start_time": "2023-05-22T02:54:12.484527",
     "status": "completed"
    },
    "tags": []
   },
   "source": [
    "**PASO 1. ANALISIS DE LOS DATOS**"
   ]
  },
  {
   "cell_type": "markdown",
   "id": "667957c8",
   "metadata": {
    "papermill": {
     "duration": 0.015185,
     "end_time": "2023-05-22T02:54:12.530864",
     "exception": false,
     "start_time": "2023-05-22T02:54:12.515679",
     "status": "completed"
    },
    "tags": []
   },
   "source": [
    "**1.1. Importar librerias**"
   ]
  },
  {
   "cell_type": "code",
   "execution_count": 1,
   "id": "86e0754a",
   "metadata": {
    "_kg_hide-input": false,
    "execution": {
     "iopub.execute_input": "2023-05-22T02:54:12.564148Z",
     "iopub.status.busy": "2023-05-22T02:54:12.563713Z",
     "iopub.status.idle": "2023-05-22T02:54:13.929943Z",
     "shell.execute_reply": "2023-05-22T02:54:13.928503Z"
    },
    "papermill": {
     "duration": 1.386699,
     "end_time": "2023-05-22T02:54:13.933150",
     "exception": false,
     "start_time": "2023-05-22T02:54:12.546451",
     "status": "completed"
    },
    "tags": []
   },
   "outputs": [],
   "source": [
    "import numpy as np \n",
    "import pandas as pd \n",
    "import matplotlib.pyplot as plt\n",
    "import warnings\n",
    "warnings.filterwarnings(\"ignore\")\n",
    "\n",
    "from sklearn.metrics import accuracy_score\n",
    "from sklearn.linear_model import LogisticRegression\n",
    "from sklearn.metrics.pairwise import cosine_similarity\n",
    "from sklearn.metrics import accuracy_score, classification_report\n",
    "from sklearn.model_selection import train_test_split, GridSearchCV\n",
    "from sklearn.metrics import confusion_matrix, ConfusionMatrixDisplay"
   ]
  },
  {
   "cell_type": "markdown",
   "id": "f7fbba1c",
   "metadata": {
    "papermill": {
     "duration": 0.0158,
     "end_time": "2023-05-22T02:54:13.965673",
     "exception": false,
     "start_time": "2023-05-22T02:54:13.949873",
     "status": "completed"
    },
    "tags": []
   },
   "source": [
    "**1.2. Importar dataset**"
   ]
  },
  {
   "cell_type": "code",
   "execution_count": 2,
   "id": "bb3157c7",
   "metadata": {
    "_kg_hide-input": false,
    "execution": {
     "iopub.execute_input": "2023-05-22T02:54:14.000273Z",
     "iopub.status.busy": "2023-05-22T02:54:13.999199Z",
     "iopub.status.idle": "2023-05-22T02:54:14.056326Z",
     "shell.execute_reply": "2023-05-22T02:54:14.054887Z"
    },
    "papermill": {
     "duration": 0.077791,
     "end_time": "2023-05-22T02:54:14.059716",
     "exception": false,
     "start_time": "2023-05-22T02:54:13.981925",
     "status": "completed"
    },
    "tags": []
   },
   "outputs": [
    {
     "data": {
      "text/html": [
       "<div>\n",
       "<style scoped>\n",
       "    .dataframe tbody tr th:only-of-type {\n",
       "        vertical-align: middle;\n",
       "    }\n",
       "\n",
       "    .dataframe tbody tr th {\n",
       "        vertical-align: top;\n",
       "    }\n",
       "\n",
       "    .dataframe thead th {\n",
       "        text-align: right;\n",
       "    }\n",
       "</style>\n",
       "<table border=\"1\" class=\"dataframe\">\n",
       "  <thead>\n",
       "    <tr style=\"text-align: right;\">\n",
       "      <th></th>\n",
       "      <th>age</th>\n",
       "      <th>anaemia</th>\n",
       "      <th>creatinine_phosphokinase</th>\n",
       "      <th>diabetes</th>\n",
       "      <th>ejection_fraction</th>\n",
       "      <th>high_blood_pressure</th>\n",
       "      <th>platelets</th>\n",
       "      <th>serum_creatinine</th>\n",
       "      <th>serum_sodium</th>\n",
       "      <th>sex</th>\n",
       "      <th>smoking</th>\n",
       "      <th>time</th>\n",
       "      <th>DEATH_EVENT</th>\n",
       "    </tr>\n",
       "  </thead>\n",
       "  <tbody>\n",
       "    <tr>\n",
       "      <th>0</th>\n",
       "      <td>75</td>\n",
       "      <td>0</td>\n",
       "      <td>582</td>\n",
       "      <td>0</td>\n",
       "      <td>20</td>\n",
       "      <td>1</td>\n",
       "      <td>265000.00</td>\n",
       "      <td>1.9</td>\n",
       "      <td>130</td>\n",
       "      <td>1</td>\n",
       "      <td>0</td>\n",
       "      <td>4</td>\n",
       "      <td>1</td>\n",
       "    </tr>\n",
       "    <tr>\n",
       "      <th>1</th>\n",
       "      <td>55</td>\n",
       "      <td>0</td>\n",
       "      <td>7861</td>\n",
       "      <td>0</td>\n",
       "      <td>38</td>\n",
       "      <td>0</td>\n",
       "      <td>263358.03</td>\n",
       "      <td>1.1</td>\n",
       "      <td>136</td>\n",
       "      <td>1</td>\n",
       "      <td>0</td>\n",
       "      <td>6</td>\n",
       "      <td>1</td>\n",
       "    </tr>\n",
       "    <tr>\n",
       "      <th>2</th>\n",
       "      <td>65</td>\n",
       "      <td>0</td>\n",
       "      <td>146</td>\n",
       "      <td>0</td>\n",
       "      <td>20</td>\n",
       "      <td>0</td>\n",
       "      <td>162000.00</td>\n",
       "      <td>1.3</td>\n",
       "      <td>129</td>\n",
       "      <td>1</td>\n",
       "      <td>1</td>\n",
       "      <td>7</td>\n",
       "      <td>1</td>\n",
       "    </tr>\n",
       "    <tr>\n",
       "      <th>3</th>\n",
       "      <td>50</td>\n",
       "      <td>1</td>\n",
       "      <td>111</td>\n",
       "      <td>0</td>\n",
       "      <td>20</td>\n",
       "      <td>0</td>\n",
       "      <td>210000.00</td>\n",
       "      <td>1.9</td>\n",
       "      <td>137</td>\n",
       "      <td>1</td>\n",
       "      <td>0</td>\n",
       "      <td>7</td>\n",
       "      <td>1</td>\n",
       "    </tr>\n",
       "    <tr>\n",
       "      <th>4</th>\n",
       "      <td>65</td>\n",
       "      <td>1</td>\n",
       "      <td>160</td>\n",
       "      <td>1</td>\n",
       "      <td>20</td>\n",
       "      <td>0</td>\n",
       "      <td>327000.00</td>\n",
       "      <td>2.7</td>\n",
       "      <td>116</td>\n",
       "      <td>0</td>\n",
       "      <td>0</td>\n",
       "      <td>8</td>\n",
       "      <td>1</td>\n",
       "    </tr>\n",
       "  </tbody>\n",
       "</table>\n",
       "</div>"
      ],
      "text/plain": [
       "   age  anaemia  creatinine_phosphokinase  diabetes  ejection_fraction  \\\n",
       "0   75        0                       582         0                 20   \n",
       "1   55        0                      7861         0                 38   \n",
       "2   65        0                       146         0                 20   \n",
       "3   50        1                       111         0                 20   \n",
       "4   65        1                       160         1                 20   \n",
       "\n",
       "   high_blood_pressure  platelets  serum_creatinine  serum_sodium  sex  \\\n",
       "0                    1  265000.00               1.9           130    1   \n",
       "1                    0  263358.03               1.1           136    1   \n",
       "2                    0  162000.00               1.3           129    1   \n",
       "3                    0  210000.00               1.9           137    1   \n",
       "4                    0  327000.00               2.7           116    0   \n",
       "\n",
       "   smoking  time  DEATH_EVENT  \n",
       "0        0     4            1  \n",
       "1        0     6            1  \n",
       "2        1     7            1  \n",
       "3        0     7            1  \n",
       "4        0     8            1  "
      ]
     },
     "execution_count": 2,
     "metadata": {},
     "output_type": "execute_result"
    }
   ],
   "source": [
    "path = 'heart_failure_clinical_records_dataset.csv'\n",
    "df = pd.read_csv(path)\n",
    "df.head()"
   ]
  },
  {
   "cell_type": "markdown",
   "id": "5e894aab",
   "metadata": {
    "papermill": {
     "duration": 0.015826,
     "end_time": "2023-05-22T02:54:14.091738",
     "exception": false,
     "start_time": "2023-05-22T02:54:14.075912",
     "status": "completed"
    },
    "tags": []
   },
   "source": [
    "**1.3. Informacion del dataset**"
   ]
  },
  {
   "cell_type": "code",
   "execution_count": 3,
   "id": "5693c2c9",
   "metadata": {
    "_kg_hide-input": false,
    "execution": {
     "iopub.execute_input": "2023-05-22T02:54:14.125969Z",
     "iopub.status.busy": "2023-05-22T02:54:14.125521Z",
     "iopub.status.idle": "2023-05-22T02:54:14.153211Z",
     "shell.execute_reply": "2023-05-22T02:54:14.151825Z"
    },
    "papermill": {
     "duration": 0.048452,
     "end_time": "2023-05-22T02:54:14.156241",
     "exception": false,
     "start_time": "2023-05-22T02:54:14.107789",
     "status": "completed"
    },
    "tags": []
   },
   "outputs": [
    {
     "name": "stdout",
     "output_type": "stream",
     "text": [
      "<class 'pandas.core.frame.DataFrame'>\n",
      "RangeIndex: 299 entries, 0 to 298\n",
      "Data columns (total 13 columns):\n",
      " #   Column                    Non-Null Count  Dtype  \n",
      "---  ------                    --------------  -----  \n",
      " 0   age                       299 non-null    int64  \n",
      " 1   anaemia                   299 non-null    int64  \n",
      " 2   creatinine_phosphokinase  299 non-null    int64  \n",
      " 3   diabetes                  299 non-null    int64  \n",
      " 4   ejection_fraction         299 non-null    int64  \n",
      " 5   high_blood_pressure       299 non-null    int64  \n",
      " 6   platelets                 299 non-null    float64\n",
      " 7   serum_creatinine          299 non-null    float64\n",
      " 8   serum_sodium              299 non-null    int64  \n",
      " 9   sex                       299 non-null    int64  \n",
      " 10  smoking                   299 non-null    int64  \n",
      " 11  time                      299 non-null    int64  \n",
      " 12  DEATH_EVENT               299 non-null    int64  \n",
      "dtypes: float64(2), int64(11)\n",
      "memory usage: 30.5 KB\n"
     ]
    }
   ],
   "source": [
    "df.info()"
   ]
  },
  {
   "cell_type": "markdown",
   "id": "3a2ad8ce",
   "metadata": {
    "papermill": {
     "duration": 0.015855,
     "end_time": "2023-05-22T02:54:14.188515",
     "exception": false,
     "start_time": "2023-05-22T02:54:14.172660",
     "status": "completed"
    },
    "tags": []
   },
   "source": [
    "**PASO 2. PREPARACION DE LOS DATOS**"
   ]
  },
  {
   "cell_type": "markdown",
   "id": "ab317df1",
   "metadata": {
    "papermill": {
     "duration": 0.01603,
     "end_time": "2023-05-22T02:54:14.220716",
     "exception": false,
     "start_time": "2023-05-22T02:54:14.204686",
     "status": "completed"
    },
    "tags": []
   },
   "source": [
    "**2.1. Valores unicos en cada columna**"
   ]
  },
  {
   "cell_type": "code",
   "execution_count": 4,
   "id": "aaa049af",
   "metadata": {
    "_kg_hide-input": false,
    "execution": {
     "iopub.execute_input": "2023-05-22T02:54:14.255034Z",
     "iopub.status.busy": "2023-05-22T02:54:14.254603Z",
     "iopub.status.idle": "2023-05-22T02:54:14.266403Z",
     "shell.execute_reply": "2023-05-22T02:54:14.264702Z"
    },
    "papermill": {
     "duration": 0.03222,
     "end_time": "2023-05-22T02:54:14.269131",
     "exception": false,
     "start_time": "2023-05-22T02:54:14.236911",
     "status": "completed"
    },
    "tags": []
   },
   "outputs": [
    {
     "name": "stdout",
     "output_type": "stream",
     "text": [
      "age, 46\n",
      "anaemia, 2\n",
      "creatinine_phosphokinase, 208\n",
      "diabetes, 2\n",
      "ejection_fraction, 17\n",
      "high_blood_pressure, 2\n",
      "platelets, 176\n",
      "serum_creatinine, 40\n",
      "serum_sodium, 27\n",
      "sex, 2\n",
      "smoking, 2\n",
      "time, 148\n",
      "DEATH_EVENT, 2\n"
     ]
    }
   ],
   "source": [
    "for col in df.columns:\n",
    "    print(f'{col}, {len(df[col].unique())}')"
   ]
  },
  {
   "cell_type": "markdown",
   "id": "15c3e2b1",
   "metadata": {
    "papermill": {
     "duration": 0.016102,
     "end_time": "2023-05-22T02:54:14.302232",
     "exception": false,
     "start_time": "2023-05-22T02:54:14.286130",
     "status": "completed"
    },
    "tags": []
   },
   "source": [
    "**2.2. SEPARACION DE COLUMNAS SEGUN EL TIPO DE DATOS (NUMERICOS O CATEGORICOS)**"
   ]
  },
  {
   "cell_type": "code",
   "execution_count": 5,
   "id": "3945b5ed",
   "metadata": {
    "_kg_hide-input": false,
    "execution": {
     "iopub.execute_input": "2023-05-22T02:54:14.337753Z",
     "iopub.status.busy": "2023-05-22T02:54:14.336461Z",
     "iopub.status.idle": "2023-05-22T02:54:14.343262Z",
     "shell.execute_reply": "2023-05-22T02:54:14.341867Z"
    },
    "papermill": {
     "duration": 0.027674,
     "end_time": "2023-05-22T02:54:14.346239",
     "exception": false,
     "start_time": "2023-05-22T02:54:14.318565",
     "status": "completed"
    },
    "tags": []
   },
   "outputs": [],
   "source": [
    "cat_cols = ['anaemia', 'diabetes', 'high_blood_pressure', 'sex', 'smoking','DEATH_EVENT']\n",
    "num_cols = ['age', 'creatinine_phosphokinase', 'ejection_fraction', 'platelets', 'serum_creatinine', 'serum_sodium', 'time']"
   ]
  },
  {
   "cell_type": "markdown",
   "id": "af5b628e",
   "metadata": {
    "papermill": {
     "duration": 0.016052,
     "end_time": "2023-05-22T02:54:14.379416",
     "exception": false,
     "start_time": "2023-05-22T02:54:14.363364",
     "status": "completed"
    },
    "tags": []
   },
   "source": [
    "**2.3. Valores minimos, medios y maximos de las columnas numericas**"
   ]
  },
  {
   "cell_type": "code",
   "execution_count": 6,
   "id": "c070b36b",
   "metadata": {
    "_kg_hide-input": false,
    "execution": {
     "iopub.execute_input": "2023-05-22T02:54:14.414656Z",
     "iopub.status.busy": "2023-05-22T02:54:14.413747Z",
     "iopub.status.idle": "2023-05-22T02:54:14.456825Z",
     "shell.execute_reply": "2023-05-22T02:54:14.455377Z"
    },
    "papermill": {
     "duration": 0.064311,
     "end_time": "2023-05-22T02:54:14.460077",
     "exception": false,
     "start_time": "2023-05-22T02:54:14.395766",
     "status": "completed"
    },
    "tags": []
   },
   "outputs": [
    {
     "data": {
      "text/html": [
       "<div>\n",
       "<style scoped>\n",
       "    .dataframe tbody tr th:only-of-type {\n",
       "        vertical-align: middle;\n",
       "    }\n",
       "\n",
       "    .dataframe tbody tr th {\n",
       "        vertical-align: top;\n",
       "    }\n",
       "\n",
       "    .dataframe thead th {\n",
       "        text-align: right;\n",
       "    }\n",
       "</style>\n",
       "<table border=\"1\" class=\"dataframe\">\n",
       "  <thead>\n",
       "    <tr style=\"text-align: right;\">\n",
       "      <th></th>\n",
       "      <th>min</th>\n",
       "      <th>avg</th>\n",
       "      <th>max</th>\n",
       "    </tr>\n",
       "  </thead>\n",
       "  <tbody>\n",
       "    <tr>\n",
       "      <th>age</th>\n",
       "      <td>40.0</td>\n",
       "      <td>60.0</td>\n",
       "      <td>95.0</td>\n",
       "    </tr>\n",
       "    <tr>\n",
       "      <th>creatinine_phosphokinase</th>\n",
       "      <td>23.0</td>\n",
       "      <td>250.0</td>\n",
       "      <td>7861.0</td>\n",
       "    </tr>\n",
       "    <tr>\n",
       "      <th>ejection_fraction</th>\n",
       "      <td>14.0</td>\n",
       "      <td>38.0</td>\n",
       "      <td>80.0</td>\n",
       "    </tr>\n",
       "    <tr>\n",
       "      <th>platelets</th>\n",
       "      <td>25100.0</td>\n",
       "      <td>262000.0</td>\n",
       "      <td>850000.0</td>\n",
       "    </tr>\n",
       "    <tr>\n",
       "      <th>serum_creatinine</th>\n",
       "      <td>0.5</td>\n",
       "      <td>1.1</td>\n",
       "      <td>9.4</td>\n",
       "    </tr>\n",
       "    <tr>\n",
       "      <th>serum_sodium</th>\n",
       "      <td>113.0</td>\n",
       "      <td>137.0</td>\n",
       "      <td>148.0</td>\n",
       "    </tr>\n",
       "    <tr>\n",
       "      <th>time</th>\n",
       "      <td>4.0</td>\n",
       "      <td>115.0</td>\n",
       "      <td>285.0</td>\n",
       "    </tr>\n",
       "  </tbody>\n",
       "</table>\n",
       "</div>"
      ],
      "text/plain": [
       "                              min       avg       max\n",
       "age                          40.0      60.0      95.0\n",
       "creatinine_phosphokinase     23.0     250.0    7861.0\n",
       "ejection_fraction            14.0      38.0      80.0\n",
       "platelets                 25100.0  262000.0  850000.0\n",
       "serum_creatinine              0.5       1.1       9.4\n",
       "serum_sodium                113.0     137.0     148.0\n",
       "time                          4.0     115.0     285.0"
      ]
     },
     "execution_count": 6,
     "metadata": {},
     "output_type": "execute_result"
    }
   ],
   "source": [
    "df[num_cols].describe().T[['min', '50%','max']].rename(columns={'50%':'avg'})"
   ]
  },
  {
   "cell_type": "markdown",
   "id": "a8456c8d",
   "metadata": {
    "papermill": {
     "duration": 0.016469,
     "end_time": "2023-05-22T02:54:14.493392",
     "exception": false,
     "start_time": "2023-05-22T02:54:14.476923",
     "status": "completed"
    },
    "tags": []
   },
   "source": [
    "**PASO 3. ANALISIS EXPLORATORIO DE DATOS**"
   ]
  },
  {
   "cell_type": "markdown",
   "id": "4808e6a0",
   "metadata": {
    "papermill": {
     "duration": 0.018298,
     "end_time": "2023-05-22T02:54:15.588361",
     "exception": false,
     "start_time": "2023-05-22T02:54:15.570063",
     "status": "completed"
    },
    "tags": []
   },
   "source": [
    "**3.1. Distribucion de las caracteristicas mas influyentes sobre la variable objetivo (DEATH_EVENT)**"
   ]
  },
  {
   "cell_type": "code",
   "execution_count": 7,
   "id": "b78c7998",
   "metadata": {
    "_kg_hide-input": false,
    "execution": {
     "iopub.execute_input": "2023-05-22T02:54:15.628397Z",
     "iopub.status.busy": "2023-05-22T02:54:15.627578Z",
     "iopub.status.idle": "2023-05-22T02:54:17.372964Z",
     "shell.execute_reply": "2023-05-22T02:54:17.371853Z"
    },
    "papermill": {
     "duration": 1.772162,
     "end_time": "2023-05-22T02:54:17.379076",
     "exception": false,
     "start_time": "2023-05-22T02:54:15.606914",
     "status": "completed"
    },
    "tags": []
   },
   "outputs": [
    {
     "data": {
      "image/png": "[encoded data removed]",
      "text/plain": [
       "<Figure size 1000x600 with 1 Axes>"
      ]
     },
     "metadata": {},
     "output_type": "display_data"
    }
   ],
   "source": [
    "# Calcula la correlación entre las variables y el evento de muerte\n",
    "corr = df.corr()['DEATH_EVENT'].abs().sort_values(ascending=False)\n",
    "\n",
    "# Filtra las variables que tienen una correlación mayor a 0.1 (puedes ajustar este umbral)\n",
    "relevant_variables = corr[corr > 0.1]\n",
    "\n",
    "# Ordena las variables por correlación en orden descendente\n",
    "relevant_variables = relevant_variables.sort_values(ascending=False)\n",
    "\n",
    "# Define un mapa de color que vaya de azul (0) a rojo (1) basado en los valores de correlación\n",
    "color_map = plt.cm.RdYlBu(np.linspace(0, 1, len(relevant_variables)))\n",
    "\n",
    "# Crea una gráfica de barras con colores basados en el mapa de color\n",
    "plt.figure(figsize=(10, 6))\n",
    "bars = plt.bar(relevant_variables.index, relevant_variables.values, color=color_map, edgecolor='black')\n",
    "plt.xlabel('Variables')\n",
    "plt.ylabel('Correlación con DEATH_EVENT (Valor Absoluto)')\n",
    "plt.title('Correlación entre Variables y el Evento de Muerte')\n",
    "\n",
    "# Agrega el índice de cada variable en medio de sus respectivas barras en color negro\n",
    "for bar, color in zip(bars, color_map):\n",
    "    yval = bar.get_height()\n",
    "    plt.text(bar.get_x() + bar.get_width() / 2, yval, round(yval, 2), ha='center', va='bottom', color='black')\n",
    "\n",
    "plt.xticks(rotation=45)\n",
    "plt.tight_layout()\n",
    "\n",
    "plt.show()"
   ]
  },
  {
   "cell_type": "code",
   "execution_count": 8,
   "id": "2e6460ca",
   "metadata": {
    "_kg_hide-input": false,
    "execution": {
     "iopub.execute_input": "2023-05-22T02:54:17.475680Z",
     "iopub.status.busy": "2023-05-22T02:54:17.474721Z",
     "iopub.status.idle": "2023-05-22T02:54:17.487184Z",
     "shell.execute_reply": "2023-05-22T02:54:17.485631Z"
    },
    "papermill": {
     "duration": 0.04034,
     "end_time": "2023-05-22T02:54:17.490175",
     "exception": false,
     "start_time": "2023-05-22T02:54:17.449835",
     "status": "completed"
    },
    "tags": []
   },
   "outputs": [
    {
     "data": {
      "text/plain": [
       "time                -0.526964\n",
       "ejection_fraction   -0.268603\n",
       "serum_sodium        -0.195204\n",
       "age                  0.253581\n",
       "serum_creatinine     0.294278\n",
       "DEATH_EVENT          1.000000\n",
       "Name: DEATH_EVENT, dtype: float64"
      ]
     },
     "execution_count": 8,
     "metadata": {},
     "output_type": "execute_result"
    }
   ],
   "source": [
    "# Igual al anterior en formato texto\n",
    "corr = df.corr()\n",
    "corr[abs(corr['DEATH_EVENT']) > 0.1]['DEATH_EVENT'].sort_values()"
   ]
  },
  {
   "cell_type": "markdown",
   "metadata": {},
   "source": [
    "**3.2. ELIMINAR LAS COLUMNAS MENOS RELEVANTES**"
   ]
  },
  {
   "cell_type": "code",
   "execution_count": 9,
   "id": "28dcc461",
   "metadata": {
    "_kg_hide-input": false,
    "execution": {
     "iopub.execute_input": "2023-05-22T02:54:18.953634Z",
     "iopub.status.busy": "2023-05-22T02:54:18.953140Z",
     "iopub.status.idle": "2023-05-22T02:54:18.964682Z",
     "shell.execute_reply": "2023-05-22T02:54:18.962817Z"
    },
    "papermill": {
     "duration": 0.042093,
     "end_time": "2023-05-22T02:54:18.967429",
     "exception": false,
     "start_time": "2023-05-22T02:54:18.925336",
     "status": "completed"
    },
    "tags": []
   },
   "outputs": [
    {
     "name": "stdout",
     "output_type": "stream",
     "text": [
      "Categorical:  ['anaemia', 'high_blood_pressure', 'DEATH_EVENT']\n",
      "Numurical:  ['age', 'creatinine_phosphokinase', 'ejection_fraction', 'serum_creatinine', 'serum_sodium', 'time']\n"
     ]
    }
   ],
   "source": [
    "# Eliminamos columnas que menos relacion tienen con la variable objetivo.\n",
    "# Recorremos el bucle para eliminar de ambas listas, tanto categoricas como numericas\n",
    "rem_cols = ['platelets', 'smoking', 'sex', 'diabetes']\n",
    "\n",
    "for e in rem_cols:\n",
    "    if df[e].nunique()>5:\n",
    "        num_cols.remove(e)\n",
    "    else:\n",
    "        cat_cols.remove(e)\n",
    "        \n",
    "df = df.drop(rem_cols, axis=1)\n",
    "\n",
    "print(\"Categorical: \",cat_cols)\n",
    "print(\"Numurical: \",num_cols)"
   ]
  },
  {
   "cell_type": "markdown",
   "metadata": {},
   "source": [
    "**3.3. COPIA DEL DATAFRAME ORIGINAL**"
   ]
  },
  {
   "cell_type": "code",
   "execution_count": 10,
   "metadata": {},
   "outputs": [
    {
     "data": {
      "text/html": [
       "<div>\n",
       "<style scoped>\n",
       "    .dataframe tbody tr th:only-of-type {\n",
       "        vertical-align: middle;\n",
       "    }\n",
       "\n",
       "    .dataframe tbody tr th {\n",
       "        vertical-align: top;\n",
       "    }\n",
       "\n",
       "    .dataframe thead th {\n",
       "        text-align: right;\n",
       "    }\n",
       "</style>\n",
       "<table border=\"1\" class=\"dataframe\">\n",
       "  <thead>\n",
       "    <tr style=\"text-align: right;\">\n",
       "      <th></th>\n",
       "      <th>age</th>\n",
       "      <th>anaemia</th>\n",
       "      <th>creatinine_phosphokinase</th>\n",
       "      <th>ejection_fraction</th>\n",
       "      <th>high_blood_pressure</th>\n",
       "      <th>serum_creatinine</th>\n",
       "      <th>serum_sodium</th>\n",
       "      <th>time</th>\n",
       "      <th>DEATH_EVENT</th>\n",
       "    </tr>\n",
       "  </thead>\n",
       "  <tbody>\n",
       "    <tr>\n",
       "      <th>0</th>\n",
       "      <td>75</td>\n",
       "      <td>0</td>\n",
       "      <td>582</td>\n",
       "      <td>20</td>\n",
       "      <td>1</td>\n",
       "      <td>1.9</td>\n",
       "      <td>130</td>\n",
       "      <td>4</td>\n",
       "      <td>1</td>\n",
       "    </tr>\n",
       "    <tr>\n",
       "      <th>1</th>\n",
       "      <td>55</td>\n",
       "      <td>0</td>\n",
       "      <td>7861</td>\n",
       "      <td>38</td>\n",
       "      <td>0</td>\n",
       "      <td>1.1</td>\n",
       "      <td>136</td>\n",
       "      <td>6</td>\n",
       "      <td>1</td>\n",
       "    </tr>\n",
       "    <tr>\n",
       "      <th>2</th>\n",
       "      <td>65</td>\n",
       "      <td>0</td>\n",
       "      <td>146</td>\n",
       "      <td>20</td>\n",
       "      <td>0</td>\n",
       "      <td>1.3</td>\n",
       "      <td>129</td>\n",
       "      <td>7</td>\n",
       "      <td>1</td>\n",
       "    </tr>\n",
       "    <tr>\n",
       "      <th>3</th>\n",
       "      <td>50</td>\n",
       "      <td>1</td>\n",
       "      <td>111</td>\n",
       "      <td>20</td>\n",
       "      <td>0</td>\n",
       "      <td>1.9</td>\n",
       "      <td>137</td>\n",
       "      <td>7</td>\n",
       "      <td>1</td>\n",
       "    </tr>\n",
       "    <tr>\n",
       "      <th>4</th>\n",
       "      <td>65</td>\n",
       "      <td>1</td>\n",
       "      <td>160</td>\n",
       "      <td>20</td>\n",
       "      <td>0</td>\n",
       "      <td>2.7</td>\n",
       "      <td>116</td>\n",
       "      <td>8</td>\n",
       "      <td>1</td>\n",
       "    </tr>\n",
       "    <tr>\n",
       "      <th>...</th>\n",
       "      <td>...</td>\n",
       "      <td>...</td>\n",
       "      <td>...</td>\n",
       "      <td>...</td>\n",
       "      <td>...</td>\n",
       "      <td>...</td>\n",
       "      <td>...</td>\n",
       "      <td>...</td>\n",
       "      <td>...</td>\n",
       "    </tr>\n",
       "    <tr>\n",
       "      <th>294</th>\n",
       "      <td>62</td>\n",
       "      <td>0</td>\n",
       "      <td>61</td>\n",
       "      <td>38</td>\n",
       "      <td>1</td>\n",
       "      <td>1.1</td>\n",
       "      <td>143</td>\n",
       "      <td>270</td>\n",
       "      <td>0</td>\n",
       "    </tr>\n",
       "    <tr>\n",
       "      <th>295</th>\n",
       "      <td>55</td>\n",
       "      <td>0</td>\n",
       "      <td>1820</td>\n",
       "      <td>38</td>\n",
       "      <td>0</td>\n",
       "      <td>1.2</td>\n",
       "      <td>139</td>\n",
       "      <td>271</td>\n",
       "      <td>0</td>\n",
       "    </tr>\n",
       "    <tr>\n",
       "      <th>296</th>\n",
       "      <td>45</td>\n",
       "      <td>0</td>\n",
       "      <td>2060</td>\n",
       "      <td>60</td>\n",
       "      <td>0</td>\n",
       "      <td>0.8</td>\n",
       "      <td>138</td>\n",
       "      <td>278</td>\n",
       "      <td>0</td>\n",
       "    </tr>\n",
       "    <tr>\n",
       "      <th>297</th>\n",
       "      <td>45</td>\n",
       "      <td>0</td>\n",
       "      <td>2413</td>\n",
       "      <td>38</td>\n",
       "      <td>0</td>\n",
       "      <td>1.4</td>\n",
       "      <td>140</td>\n",
       "      <td>280</td>\n",
       "      <td>0</td>\n",
       "    </tr>\n",
       "    <tr>\n",
       "      <th>298</th>\n",
       "      <td>50</td>\n",
       "      <td>0</td>\n",
       "      <td>196</td>\n",
       "      <td>45</td>\n",
       "      <td>0</td>\n",
       "      <td>1.6</td>\n",
       "      <td>136</td>\n",
       "      <td>285</td>\n",
       "      <td>0</td>\n",
       "    </tr>\n",
       "  </tbody>\n",
       "</table>\n",
       "<p>299 rows × 9 columns</p>\n",
       "</div>"
      ],
      "text/plain": [
       "     age  anaemia  creatinine_phosphokinase  ejection_fraction  \\\n",
       "0     75        0                       582                 20   \n",
       "1     55        0                      7861                 38   \n",
       "2     65        0                       146                 20   \n",
       "3     50        1                       111                 20   \n",
       "4     65        1                       160                 20   \n",
       "..   ...      ...                       ...                ...   \n",
       "294   62        0                        61                 38   \n",
       "295   55        0                      1820                 38   \n",
       "296   45        0                      2060                 60   \n",
       "297   45        0                      2413                 38   \n",
       "298   50        0                       196                 45   \n",
       "\n",
       "     high_blood_pressure  serum_creatinine  serum_sodium  time  DEATH_EVENT  \n",
       "0                      1               1.9           130     4            1  \n",
       "1                      0               1.1           136     6            1  \n",
       "2                      0               1.3           129     7            1  \n",
       "3                      0               1.9           137     7            1  \n",
       "4                      0               2.7           116     8            1  \n",
       "..                   ...               ...           ...   ...          ...  \n",
       "294                    1               1.1           143   270            0  \n",
       "295                    0               1.2           139   271            0  \n",
       "296                    0               0.8           138   278            0  \n",
       "297                    0               1.4           140   280            0  \n",
       "298                    0               1.6           136   285            0  \n",
       "\n",
       "[299 rows x 9 columns]"
      ]
     },
     "execution_count": 10,
     "metadata": {},
     "output_type": "execute_result"
    }
   ],
   "source": [
    "# Despues de eliminar las columnas menos relevantes y antes de normalizar los datos\n",
    "# hacemos copia del df porque la vamos a necesitar mas adelante para estimar la variable tiempo\n",
    "df_reducido = df\n",
    "df_reducido"
   ]
  },
  {
   "cell_type": "markdown",
   "id": "5bcd5628",
   "metadata": {
    "papermill": {
     "duration": 0.025422,
     "end_time": "2023-05-22T02:54:19.018633",
     "exception": false,
     "start_time": "2023-05-22T02:54:18.993211",
     "status": "completed"
    },
    "tags": []
   },
   "source": [
    "**PASO 4. PRE-PROCESAMIENTO DE LOS DATOS**"
   ]
  },
  {
   "cell_type": "markdown",
   "id": "a3b87d15",
   "metadata": {
    "papermill": {
     "duration": 0.025659,
     "end_time": "2023-05-22T02:54:19.070142",
     "exception": false,
     "start_time": "2023-05-22T02:54:19.044483",
     "status": "completed"
    },
    "tags": []
   },
   "source": [
    "**4.1. Escalado de caracteristicas**"
   ]
  },
  {
   "cell_type": "code",
   "execution_count": 11,
   "id": "cd3154ac",
   "metadata": {
    "execution": {
     "iopub.execute_input": "2023-05-22T02:54:19.123680Z",
     "iopub.status.busy": "2023-05-22T02:54:19.122743Z",
     "iopub.status.idle": "2023-05-22T02:54:19.335760Z",
     "shell.execute_reply": "2023-05-22T02:54:19.334385Z"
    },
    "papermill": {
     "duration": 0.243359,
     "end_time": "2023-05-22T02:54:19.338849",
     "exception": false,
     "start_time": "2023-05-22T02:54:19.095490",
     "status": "completed"
    },
    "tags": []
   },
   "outputs": [
    {
     "data": {
      "text/html": [
       "<div>\n",
       "<style scoped>\n",
       "    .dataframe tbody tr th:only-of-type {\n",
       "        vertical-align: middle;\n",
       "    }\n",
       "\n",
       "    .dataframe tbody tr th {\n",
       "        vertical-align: top;\n",
       "    }\n",
       "\n",
       "    .dataframe thead th {\n",
       "        text-align: right;\n",
       "    }\n",
       "</style>\n",
       "<table border=\"1\" class=\"dataframe\">\n",
       "  <thead>\n",
       "    <tr style=\"text-align: right;\">\n",
       "      <th></th>\n",
       "      <th>age</th>\n",
       "      <th>creatinine_phosphokinase</th>\n",
       "      <th>ejection_fraction</th>\n",
       "      <th>serum_creatinine</th>\n",
       "      <th>serum_sodium</th>\n",
       "      <th>time</th>\n",
       "    </tr>\n",
       "  </thead>\n",
       "  <tbody>\n",
       "    <tr>\n",
       "      <th>0</th>\n",
       "      <td>1.193302</td>\n",
       "      <td>0.000166</td>\n",
       "      <td>-1.530560</td>\n",
       "      <td>0.490057</td>\n",
       "      <td>-1.504036</td>\n",
       "      <td>-1.629502</td>\n",
       "    </tr>\n",
       "    <tr>\n",
       "      <th>1</th>\n",
       "      <td>-0.490896</td>\n",
       "      <td>7.514640</td>\n",
       "      <td>-0.007077</td>\n",
       "      <td>-0.284552</td>\n",
       "      <td>-0.141976</td>\n",
       "      <td>-1.603691</td>\n",
       "    </tr>\n",
       "    <tr>\n",
       "      <th>2</th>\n",
       "      <td>0.351203</td>\n",
       "      <td>-0.449939</td>\n",
       "      <td>-1.530560</td>\n",
       "      <td>-0.090900</td>\n",
       "      <td>-1.731046</td>\n",
       "      <td>-1.590785</td>\n",
       "    </tr>\n",
       "    <tr>\n",
       "      <th>3</th>\n",
       "      <td>-0.911945</td>\n",
       "      <td>-0.486071</td>\n",
       "      <td>-1.530560</td>\n",
       "      <td>0.490057</td>\n",
       "      <td>0.085034</td>\n",
       "      <td>-1.590785</td>\n",
       "    </tr>\n",
       "    <tr>\n",
       "      <th>4</th>\n",
       "      <td>0.351203</td>\n",
       "      <td>-0.435486</td>\n",
       "      <td>-1.530560</td>\n",
       "      <td>1.264666</td>\n",
       "      <td>-4.682176</td>\n",
       "      <td>-1.577879</td>\n",
       "    </tr>\n",
       "  </tbody>\n",
       "</table>\n",
       "</div>"
      ],
      "text/plain": [
       "        age  creatinine_phosphokinase  ejection_fraction  serum_creatinine  \\\n",
       "0  1.193302                  0.000166          -1.530560          0.490057   \n",
       "1 -0.490896                  7.514640          -0.007077         -0.284552   \n",
       "2  0.351203                 -0.449939          -1.530560         -0.090900   \n",
       "3 -0.911945                 -0.486071          -1.530560          0.490057   \n",
       "4  0.351203                 -0.435486          -1.530560          1.264666   \n",
       "\n",
       "   serum_sodium      time  \n",
       "0     -1.504036 -1.629502  \n",
       "1     -0.141976 -1.603691  \n",
       "2     -1.731046 -1.590785  \n",
       "3      0.085034 -1.590785  \n",
       "4     -4.682176 -1.577879  "
      ]
     },
     "execution_count": 11,
     "metadata": {},
     "output_type": "execute_result"
    }
   ],
   "source": [
    "# Transformamos las escalas de caracteristicas de las columnas numericas\n",
    "# en el rango entre -1 y +1\n",
    "from sklearn.preprocessing import StandardScaler\n",
    "scaler = StandardScaler() # scaling in range [-1, 1]\n",
    "standard_df = scaler.fit_transform(df[num_cols])\n",
    "standard_df = pd.DataFrame(standard_df, columns=num_cols)\n",
    "standard_df.head()"
   ]
  },
  {
   "cell_type": "markdown",
   "id": "16f30ae8",
   "metadata": {
    "papermill": {
     "duration": 0.026567,
     "end_time": "2023-05-22T02:54:19.391956",
     "exception": false,
     "start_time": "2023-05-22T02:54:19.365389",
     "status": "completed"
    },
    "tags": []
   },
   "source": [
    "**4.2. Union de las columnas categoricas con las numericas en un solo dataframe**"
   ]
  },
  {
   "cell_type": "code",
   "execution_count": 12,
   "id": "3e829be2",
   "metadata": {
    "execution": {
     "iopub.execute_input": "2023-05-22T02:54:19.446898Z",
     "iopub.status.busy": "2023-05-22T02:54:19.446080Z",
     "iopub.status.idle": "2023-05-22T02:54:19.466830Z",
     "shell.execute_reply": "2023-05-22T02:54:19.465368Z"
    },
    "papermill": {
     "duration": 0.052102,
     "end_time": "2023-05-22T02:54:19.470127",
     "exception": false,
     "start_time": "2023-05-22T02:54:19.418025",
     "status": "completed"
    },
    "tags": []
   },
   "outputs": [
    {
     "data": {
      "text/html": [
       "<div>\n",
       "<style scoped>\n",
       "    .dataframe tbody tr th:only-of-type {\n",
       "        vertical-align: middle;\n",
       "    }\n",
       "\n",
       "    .dataframe tbody tr th {\n",
       "        vertical-align: top;\n",
       "    }\n",
       "\n",
       "    .dataframe thead th {\n",
       "        text-align: right;\n",
       "    }\n",
       "</style>\n",
       "<table border=\"1\" class=\"dataframe\">\n",
       "  <thead>\n",
       "    <tr style=\"text-align: right;\">\n",
       "      <th></th>\n",
       "      <th>age</th>\n",
       "      <th>creatinine_phosphokinase</th>\n",
       "      <th>ejection_fraction</th>\n",
       "      <th>serum_creatinine</th>\n",
       "      <th>serum_sodium</th>\n",
       "      <th>time</th>\n",
       "      <th>anaemia</th>\n",
       "      <th>high_blood_pressure</th>\n",
       "      <th>DEATH_EVENT</th>\n",
       "    </tr>\n",
       "  </thead>\n",
       "  <tbody>\n",
       "    <tr>\n",
       "      <th>0</th>\n",
       "      <td>1.193302</td>\n",
       "      <td>0.000166</td>\n",
       "      <td>-1.530560</td>\n",
       "      <td>0.490057</td>\n",
       "      <td>-1.504036</td>\n",
       "      <td>-1.629502</td>\n",
       "      <td>0</td>\n",
       "      <td>1</td>\n",
       "      <td>1</td>\n",
       "    </tr>\n",
       "    <tr>\n",
       "      <th>1</th>\n",
       "      <td>-0.490896</td>\n",
       "      <td>7.514640</td>\n",
       "      <td>-0.007077</td>\n",
       "      <td>-0.284552</td>\n",
       "      <td>-0.141976</td>\n",
       "      <td>-1.603691</td>\n",
       "      <td>0</td>\n",
       "      <td>0</td>\n",
       "      <td>1</td>\n",
       "    </tr>\n",
       "    <tr>\n",
       "      <th>2</th>\n",
       "      <td>0.351203</td>\n",
       "      <td>-0.449939</td>\n",
       "      <td>-1.530560</td>\n",
       "      <td>-0.090900</td>\n",
       "      <td>-1.731046</td>\n",
       "      <td>-1.590785</td>\n",
       "      <td>0</td>\n",
       "      <td>0</td>\n",
       "      <td>1</td>\n",
       "    </tr>\n",
       "    <tr>\n",
       "      <th>3</th>\n",
       "      <td>-0.911945</td>\n",
       "      <td>-0.486071</td>\n",
       "      <td>-1.530560</td>\n",
       "      <td>0.490057</td>\n",
       "      <td>0.085034</td>\n",
       "      <td>-1.590785</td>\n",
       "      <td>1</td>\n",
       "      <td>0</td>\n",
       "      <td>1</td>\n",
       "    </tr>\n",
       "    <tr>\n",
       "      <th>4</th>\n",
       "      <td>0.351203</td>\n",
       "      <td>-0.435486</td>\n",
       "      <td>-1.530560</td>\n",
       "      <td>1.264666</td>\n",
       "      <td>-4.682176</td>\n",
       "      <td>-1.577879</td>\n",
       "      <td>1</td>\n",
       "      <td>0</td>\n",
       "      <td>1</td>\n",
       "    </tr>\n",
       "  </tbody>\n",
       "</table>\n",
       "</div>"
      ],
      "text/plain": [
       "        age  creatinine_phosphokinase  ejection_fraction  serum_creatinine  \\\n",
       "0  1.193302                  0.000166          -1.530560          0.490057   \n",
       "1 -0.490896                  7.514640          -0.007077         -0.284552   \n",
       "2  0.351203                 -0.449939          -1.530560         -0.090900   \n",
       "3 -0.911945                 -0.486071          -1.530560          0.490057   \n",
       "4  0.351203                 -0.435486          -1.530560          1.264666   \n",
       "\n",
       "   serum_sodium      time  anaemia  high_blood_pressure  DEATH_EVENT  \n",
       "0     -1.504036 -1.629502        0                    1            1  \n",
       "1     -0.141976 -1.603691        0                    0            1  \n",
       "2     -1.731046 -1.590785        0                    0            1  \n",
       "3      0.085034 -1.590785        1                    0            1  \n",
       "4     -4.682176 -1.577879        1                    0            1  "
      ]
     },
     "execution_count": 12,
     "metadata": {},
     "output_type": "execute_result"
    }
   ],
   "source": [
    "df = standard_df.join(df[cat_cols])\n",
    "df.head()"
   ]
  },
  {
   "cell_type": "code",
   "execution_count": 13,
   "id": "59fcb877",
   "metadata": {},
   "outputs": [
    {
     "data": {
      "text/html": [
       "<div>\n",
       "<style scoped>\n",
       "    .dataframe tbody tr th:only-of-type {\n",
       "        vertical-align: middle;\n",
       "    }\n",
       "\n",
       "    .dataframe tbody tr th {\n",
       "        vertical-align: top;\n",
       "    }\n",
       "\n",
       "    .dataframe thead th {\n",
       "        text-align: right;\n",
       "    }\n",
       "</style>\n",
       "<table border=\"1\" class=\"dataframe\">\n",
       "  <thead>\n",
       "    <tr style=\"text-align: right;\">\n",
       "      <th></th>\n",
       "      <th>age</th>\n",
       "      <th>anaemia</th>\n",
       "      <th>creatinine_phosphokinase</th>\n",
       "      <th>ejection_fraction</th>\n",
       "      <th>high_blood_pressure</th>\n",
       "      <th>serum_creatinine</th>\n",
       "      <th>serum_sodium</th>\n",
       "      <th>time</th>\n",
       "      <th>DEATH_EVENT</th>\n",
       "    </tr>\n",
       "  </thead>\n",
       "  <tbody>\n",
       "    <tr>\n",
       "      <th>0</th>\n",
       "      <td>1.193302</td>\n",
       "      <td>0</td>\n",
       "      <td>0.000166</td>\n",
       "      <td>-1.530560</td>\n",
       "      <td>1</td>\n",
       "      <td>0.490057</td>\n",
       "      <td>-1.504036</td>\n",
       "      <td>-1.629502</td>\n",
       "      <td>1</td>\n",
       "    </tr>\n",
       "    <tr>\n",
       "      <th>1</th>\n",
       "      <td>-0.490896</td>\n",
       "      <td>0</td>\n",
       "      <td>7.514640</td>\n",
       "      <td>-0.007077</td>\n",
       "      <td>0</td>\n",
       "      <td>-0.284552</td>\n",
       "      <td>-0.141976</td>\n",
       "      <td>-1.603691</td>\n",
       "      <td>1</td>\n",
       "    </tr>\n",
       "    <tr>\n",
       "      <th>2</th>\n",
       "      <td>0.351203</td>\n",
       "      <td>0</td>\n",
       "      <td>-0.449939</td>\n",
       "      <td>-1.530560</td>\n",
       "      <td>0</td>\n",
       "      <td>-0.090900</td>\n",
       "      <td>-1.731046</td>\n",
       "      <td>-1.590785</td>\n",
       "      <td>1</td>\n",
       "    </tr>\n",
       "    <tr>\n",
       "      <th>3</th>\n",
       "      <td>-0.911945</td>\n",
       "      <td>1</td>\n",
       "      <td>-0.486071</td>\n",
       "      <td>-1.530560</td>\n",
       "      <td>0</td>\n",
       "      <td>0.490057</td>\n",
       "      <td>0.085034</td>\n",
       "      <td>-1.590785</td>\n",
       "      <td>1</td>\n",
       "    </tr>\n",
       "    <tr>\n",
       "      <th>4</th>\n",
       "      <td>0.351203</td>\n",
       "      <td>1</td>\n",
       "      <td>-0.435486</td>\n",
       "      <td>-1.530560</td>\n",
       "      <td>0</td>\n",
       "      <td>1.264666</td>\n",
       "      <td>-4.682176</td>\n",
       "      <td>-1.577879</td>\n",
       "      <td>1</td>\n",
       "    </tr>\n",
       "    <tr>\n",
       "      <th>...</th>\n",
       "      <td>...</td>\n",
       "      <td>...</td>\n",
       "      <td>...</td>\n",
       "      <td>...</td>\n",
       "      <td>...</td>\n",
       "      <td>...</td>\n",
       "      <td>...</td>\n",
       "      <td>...</td>\n",
       "      <td>...</td>\n",
       "    </tr>\n",
       "    <tr>\n",
       "      <th>294</th>\n",
       "      <td>0.098573</td>\n",
       "      <td>0</td>\n",
       "      <td>-0.537688</td>\n",
       "      <td>-0.007077</td>\n",
       "      <td>1</td>\n",
       "      <td>-0.284552</td>\n",
       "      <td>1.447094</td>\n",
       "      <td>1.803451</td>\n",
       "      <td>0</td>\n",
       "    </tr>\n",
       "    <tr>\n",
       "      <th>295</th>\n",
       "      <td>-0.490896</td>\n",
       "      <td>0</td>\n",
       "      <td>1.278215</td>\n",
       "      <td>-0.007077</td>\n",
       "      <td>0</td>\n",
       "      <td>-0.187726</td>\n",
       "      <td>0.539054</td>\n",
       "      <td>1.816357</td>\n",
       "      <td>0</td>\n",
       "    </tr>\n",
       "    <tr>\n",
       "      <th>296</th>\n",
       "      <td>-1.332995</td>\n",
       "      <td>0</td>\n",
       "      <td>1.525979</td>\n",
       "      <td>1.854958</td>\n",
       "      <td>0</td>\n",
       "      <td>-0.575031</td>\n",
       "      <td>0.312044</td>\n",
       "      <td>1.906697</td>\n",
       "      <td>0</td>\n",
       "    </tr>\n",
       "    <tr>\n",
       "      <th>297</th>\n",
       "      <td>-1.332995</td>\n",
       "      <td>0</td>\n",
       "      <td>1.890398</td>\n",
       "      <td>-0.007077</td>\n",
       "      <td>0</td>\n",
       "      <td>0.005926</td>\n",
       "      <td>0.766064</td>\n",
       "      <td>1.932509</td>\n",
       "      <td>0</td>\n",
       "    </tr>\n",
       "    <tr>\n",
       "      <th>298</th>\n",
       "      <td>-0.911945</td>\n",
       "      <td>0</td>\n",
       "      <td>-0.398321</td>\n",
       "      <td>0.585389</td>\n",
       "      <td>0</td>\n",
       "      <td>0.199578</td>\n",
       "      <td>-0.141976</td>\n",
       "      <td>1.997038</td>\n",
       "      <td>0</td>\n",
       "    </tr>\n",
       "  </tbody>\n",
       "</table>\n",
       "<p>299 rows × 9 columns</p>\n",
       "</div>"
      ],
      "text/plain": [
       "          age  anaemia  creatinine_phosphokinase  ejection_fraction  \\\n",
       "0    1.193302        0                  0.000166          -1.530560   \n",
       "1   -0.490896        0                  7.514640          -0.007077   \n",
       "2    0.351203        0                 -0.449939          -1.530560   \n",
       "3   -0.911945        1                 -0.486071          -1.530560   \n",
       "4    0.351203        1                 -0.435486          -1.530560   \n",
       "..        ...      ...                       ...                ...   \n",
       "294  0.098573        0                 -0.537688          -0.007077   \n",
       "295 -0.490896        0                  1.278215          -0.007077   \n",
       "296 -1.332995        0                  1.525979           1.854958   \n",
       "297 -1.332995        0                  1.890398          -0.007077   \n",
       "298 -0.911945        0                 -0.398321           0.585389   \n",
       "\n",
       "     high_blood_pressure  serum_creatinine  serum_sodium      time  \\\n",
       "0                      1          0.490057     -1.504036 -1.629502   \n",
       "1                      0         -0.284552     -0.141976 -1.603691   \n",
       "2                      0         -0.090900     -1.731046 -1.590785   \n",
       "3                      0          0.490057      0.085034 -1.590785   \n",
       "4                      0          1.264666     -4.682176 -1.577879   \n",
       "..                   ...               ...           ...       ...   \n",
       "294                    1         -0.284552      1.447094  1.803451   \n",
       "295                    0         -0.187726      0.539054  1.816357   \n",
       "296                    0         -0.575031      0.312044  1.906697   \n",
       "297                    0          0.005926      0.766064  1.932509   \n",
       "298                    0          0.199578     -0.141976  1.997038   \n",
       "\n",
       "     DEATH_EVENT  \n",
       "0              1  \n",
       "1              1  \n",
       "2              1  \n",
       "3              1  \n",
       "4              1  \n",
       "..           ...  \n",
       "294            0  \n",
       "295            0  \n",
       "296            0  \n",
       "297            0  \n",
       "298            0  \n",
       "\n",
       "[299 rows x 9 columns]"
      ]
     },
     "execution_count": 13,
     "metadata": {},
     "output_type": "execute_result"
    }
   ],
   "source": [
    "# Reordenacion de las columnas en el orden original\n",
    "df = df[['age', 'anaemia', 'creatinine_phosphokinase', 'ejection_fraction', 'high_blood_pressure', 'serum_creatinine', 'serum_sodium', 'time', 'DEATH_EVENT']]\n",
    "df"
   ]
  },
  {
   "cell_type": "markdown",
   "id": "00c71a65",
   "metadata": {
    "papermill": {
     "duration": 0.025827,
     "end_time": "2023-05-22T02:54:19.522557",
     "exception": false,
     "start_time": "2023-05-22T02:54:19.496730",
     "status": "completed"
    },
    "tags": []
   },
   "source": [
    "**4.3. Separacion de caracteristicas de la variable objetivo**"
   ]
  },
  {
   "cell_type": "code",
   "execution_count": 14,
   "id": "f5d72120",
   "metadata": {
    "execution": {
     "iopub.execute_input": "2023-05-22T02:54:19.577571Z",
     "iopub.status.busy": "2023-05-22T02:54:19.576633Z",
     "iopub.status.idle": "2023-05-22T02:54:19.583806Z",
     "shell.execute_reply": "2023-05-22T02:54:19.582617Z"
    },
    "papermill": {
     "duration": 0.037973,
     "end_time": "2023-05-22T02:54:19.586463",
     "exception": false,
     "start_time": "2023-05-22T02:54:19.548490",
     "status": "completed"
    },
    "tags": []
   },
   "outputs": [],
   "source": [
    "X = df.drop('DEATH_EVENT', axis=1)\n",
    "y = df['DEATH_EVENT']"
   ]
  },
  {
   "cell_type": "markdown",
   "id": "00ae0fa9",
   "metadata": {
    "papermill": {
     "duration": 0.025681,
     "end_time": "2023-05-22T02:54:19.638217",
     "exception": false,
     "start_time": "2023-05-22T02:54:19.612536",
     "status": "completed"
    },
    "tags": []
   },
   "source": [
    "**PASO 5. SELECCION DEL MODELO**\n",
    "(*LogisticRegression*)"
   ]
  },
  {
   "cell_type": "markdown",
   "id": "3d006b11",
   "metadata": {
    "papermill": {
     "duration": 0.026678,
     "end_time": "2023-05-22T02:54:20.010130",
     "exception": false,
     "start_time": "2023-05-22T02:54:19.983452",
     "status": "completed"
    },
    "tags": []
   },
   "source": [
    "**5.1. Obtener el mejor valor para random_state a la hora de hacer la division de los datos**"
   ]
  },
  {
   "cell_type": "code",
   "execution_count": 15,
   "id": "f5c3142c",
   "metadata": {
    "_kg_hide-input": true,
    "execution": {
     "iopub.execute_input": "2023-05-22T02:54:20.066179Z",
     "iopub.status.busy": "2023-05-22T02:54:20.065365Z",
     "iopub.status.idle": "2023-05-22T02:54:20.514635Z",
     "shell.execute_reply": "2023-05-22T02:54:20.513033Z"
    },
    "papermill": {
     "duration": 0.480808,
     "end_time": "2023-05-22T02:54:20.517497",
     "exception": false,
     "start_time": "2023-05-22T02:54:20.036689",
     "status": "completed"
    },
    "tags": []
   },
   "outputs": [
    {
     "name": "stdout",
     "output_type": "stream",
     "text": [
      "BEST SEED: 24\n"
     ]
    }
   ],
   "source": [
    "# Este código busca la semilla random_state que produce el mejor rendimiento del modelo de \n",
    "# regresión logística en los datos de prueba. Esto puede ayudar a asegurarse de que la división \n",
    "# de datos sea consistente en futuras ejecuciones del código y que el modelo se entrene y evalúe \n",
    "# de manera más confiable.\n",
    "the_best_seed = {}\n",
    "\n",
    "for i in range(45):\n",
    "    x_train, x_test, y_train, y_test = train_test_split(X,y,test_size=0.2, random_state=i)\n",
    "    mdl = LogisticRegression()\n",
    "    mdl.fit(x_train,y_train)\n",
    "    the_best_seed[mdl.score(x_test, y_test)] = i\n",
    "    \n",
    "max_score = max(the_best_seed.keys())\n",
    "max_seed = the_best_seed[max_score]\n",
    "\n",
    "print(\"BEST SEED:\", max_seed)"
   ]
  },
  {
   "cell_type": "markdown",
   "id": "388cbada",
   "metadata": {
    "papermill": {
     "duration": 0.02619,
     "end_time": "2023-05-22T02:54:20.570226",
     "exception": false,
     "start_time": "2023-05-22T02:54:20.544036",
     "status": "completed"
    },
    "tags": []
   },
   "source": [
    "**5.3. Division de los datos. 80% para entrenamiento y 20% para test**"
   ]
  },
  {
   "cell_type": "code",
   "execution_count": 16,
   "id": "dedc3413",
   "metadata": {
    "_kg_hide-input": false,
    "execution": {
     "iopub.execute_input": "2023-05-22T02:54:20.626682Z",
     "iopub.status.busy": "2023-05-22T02:54:20.626214Z",
     "iopub.status.idle": "2023-05-22T02:54:20.633435Z",
     "shell.execute_reply": "2023-05-22T02:54:20.632346Z"
    },
    "papermill": {
     "duration": 0.039013,
     "end_time": "2023-05-22T02:54:20.635993",
     "exception": false,
     "start_time": "2023-05-22T02:54:20.596980",
     "status": "completed"
    },
    "tags": []
   },
   "outputs": [],
   "source": [
    "# Aqui usaremos la variable random_state calculada anteriormente\n",
    "x_train, x_test, y_train, y_test = train_test_split(X,y,test_size=0.2, random_state=max_seed) # max_seed = 24"
   ]
  },
  {
   "cell_type": "code",
   "execution_count": 17,
   "id": "101eb065",
   "metadata": {
    "_kg_hide-input": false,
    "execution": {
     "iopub.execute_input": "2023-05-22T02:54:20.745064Z",
     "iopub.status.busy": "2023-05-22T02:54:20.743783Z",
     "iopub.status.idle": "2023-05-22T02:54:20.762636Z",
     "shell.execute_reply": "2023-05-22T02:54:20.761649Z"
    },
    "papermill": {
     "duration": 0.049437,
     "end_time": "2023-05-22T02:54:20.765248",
     "exception": false,
     "start_time": "2023-05-22T02:54:20.715811",
     "status": "completed"
    },
    "tags": []
   },
   "outputs": [
    {
     "data": {
      "text/html": [
       "<div>\n",
       "<style scoped>\n",
       "    .dataframe tbody tr th:only-of-type {\n",
       "        vertical-align: middle;\n",
       "    }\n",
       "\n",
       "    .dataframe tbody tr th {\n",
       "        vertical-align: top;\n",
       "    }\n",
       "\n",
       "    .dataframe thead th {\n",
       "        text-align: right;\n",
       "    }\n",
       "</style>\n",
       "<table border=\"1\" class=\"dataframe\">\n",
       "  <thead>\n",
       "    <tr style=\"text-align: right;\">\n",
       "      <th></th>\n",
       "      <th>age</th>\n",
       "      <th>anaemia</th>\n",
       "      <th>creatinine_phosphokinase</th>\n",
       "      <th>ejection_fraction</th>\n",
       "      <th>high_blood_pressure</th>\n",
       "      <th>serum_creatinine</th>\n",
       "      <th>serum_sodium</th>\n",
       "      <th>time</th>\n",
       "      <th>DEATH_EVENT</th>\n",
       "    </tr>\n",
       "  </thead>\n",
       "  <tbody>\n",
       "    <tr>\n",
       "      <th>176</th>\n",
       "      <td>0.688043</td>\n",
       "      <td>0</td>\n",
       "      <td>0.864242</td>\n",
       "      <td>0.162199</td>\n",
       "      <td>0</td>\n",
       "      <td>-0.381379</td>\n",
       "      <td>-0.368986</td>\n",
       "      <td>0.216033</td>\n",
       "      <td>0</td>\n",
       "    </tr>\n",
       "    <tr>\n",
       "      <th>244</th>\n",
       "      <td>-0.575106</td>\n",
       "      <td>0</td>\n",
       "      <td>0.000166</td>\n",
       "      <td>-0.007077</td>\n",
       "      <td>0</td>\n",
       "      <td>0.393231</td>\n",
       "      <td>-0.595996</td>\n",
       "      <td>1.067818</td>\n",
       "      <td>0</td>\n",
       "    </tr>\n",
       "    <tr>\n",
       "      <th>187</th>\n",
       "      <td>-0.069846</td>\n",
       "      <td>0</td>\n",
       "      <td>1.356673</td>\n",
       "      <td>-1.107370</td>\n",
       "      <td>0</td>\n",
       "      <td>0.683709</td>\n",
       "      <td>1.674104</td>\n",
       "      <td>0.538678</td>\n",
       "      <td>1</td>\n",
       "    </tr>\n",
       "    <tr>\n",
       "      <th>172</th>\n",
       "      <td>0.772253</td>\n",
       "      <td>1</td>\n",
       "      <td>-0.424130</td>\n",
       "      <td>1.854958</td>\n",
       "      <td>1</td>\n",
       "      <td>-0.284552</td>\n",
       "      <td>1.901114</td>\n",
       "      <td>0.203127</td>\n",
       "      <td>0</td>\n",
       "    </tr>\n",
       "    <tr>\n",
       "      <th>211</th>\n",
       "      <td>-0.911945</td>\n",
       "      <td>0</td>\n",
       "      <td>0.000166</td>\n",
       "      <td>2.024234</td>\n",
       "      <td>1</td>\n",
       "      <td>-0.575031</td>\n",
       "      <td>0.766064</td>\n",
       "      <td>0.796795</td>\n",
       "      <td>0</td>\n",
       "    </tr>\n",
       "  </tbody>\n",
       "</table>\n",
       "</div>"
      ],
      "text/plain": [
       "          age  anaemia  creatinine_phosphokinase  ejection_fraction  \\\n",
       "176  0.688043        0                  0.864242           0.162199   \n",
       "244 -0.575106        0                  0.000166          -0.007077   \n",
       "187 -0.069846        0                  1.356673          -1.107370   \n",
       "172  0.772253        1                 -0.424130           1.854958   \n",
       "211 -0.911945        0                  0.000166           2.024234   \n",
       "\n",
       "     high_blood_pressure  serum_creatinine  serum_sodium      time  \\\n",
       "176                    0         -0.381379     -0.368986  0.216033   \n",
       "244                    0          0.393231     -0.595996  1.067818   \n",
       "187                    0          0.683709      1.674104  0.538678   \n",
       "172                    1         -0.284552      1.901114  0.203127   \n",
       "211                    1         -0.575031      0.766064  0.796795   \n",
       "\n",
       "     DEATH_EVENT  \n",
       "176            0  \n",
       "244            0  \n",
       "187            1  \n",
       "172            0  \n",
       "211            0  "
      ]
     },
     "execution_count": 17,
     "metadata": {},
     "output_type": "execute_result"
    }
   ],
   "source": [
    "# Visualizamos los primeros elementos de entrenamiento (x_train) incluyendo la variable objetivo (y_train)\n",
    "x_train.merge(y_train,left_index=True,right_index=True).head()"
   ]
  },
  {
   "cell_type": "code",
   "execution_count": 18,
   "id": "9e79152a",
   "metadata": {
    "_kg_hide-input": false,
    "execution": {
     "iopub.execute_input": "2023-05-22T02:54:20.875885Z",
     "iopub.status.busy": "2023-05-22T02:54:20.875088Z",
     "iopub.status.idle": "2023-05-22T02:54:20.893717Z",
     "shell.execute_reply": "2023-05-22T02:54:20.892374Z"
    },
    "papermill": {
     "duration": 0.050579,
     "end_time": "2023-05-22T02:54:20.896487",
     "exception": false,
     "start_time": "2023-05-22T02:54:20.845908",
     "status": "completed"
    },
    "tags": []
   },
   "outputs": [
    {
     "data": {
      "text/html": [
       "<div>\n",
       "<style scoped>\n",
       "    .dataframe tbody tr th:only-of-type {\n",
       "        vertical-align: middle;\n",
       "    }\n",
       "\n",
       "    .dataframe tbody tr th {\n",
       "        vertical-align: top;\n",
       "    }\n",
       "\n",
       "    .dataframe thead th {\n",
       "        text-align: right;\n",
       "    }\n",
       "</style>\n",
       "<table border=\"1\" class=\"dataframe\">\n",
       "  <thead>\n",
       "    <tr style=\"text-align: right;\">\n",
       "      <th></th>\n",
       "      <th>age</th>\n",
       "      <th>anaemia</th>\n",
       "      <th>creatinine_phosphokinase</th>\n",
       "      <th>ejection_fraction</th>\n",
       "      <th>high_blood_pressure</th>\n",
       "      <th>serum_creatinine</th>\n",
       "      <th>serum_sodium</th>\n",
       "      <th>time</th>\n",
       "      <th>DEATH_EVENT</th>\n",
       "    </tr>\n",
       "  </thead>\n",
       "  <tbody>\n",
       "    <tr>\n",
       "      <th>179</th>\n",
       "      <td>-0.490896</td>\n",
       "      <td>0</td>\n",
       "      <td>0.261350</td>\n",
       "      <td>0.162199</td>\n",
       "      <td>0</td>\n",
       "      <td>-0.671857</td>\n",
       "      <td>0.766064</td>\n",
       "      <td>0.216033</td>\n",
       "      <td>0</td>\n",
       "    </tr>\n",
       "    <tr>\n",
       "      <th>196</th>\n",
       "      <td>-1.332995</td>\n",
       "      <td>0</td>\n",
       "      <td>0.000166</td>\n",
       "      <td>-0.007077</td>\n",
       "      <td>1</td>\n",
       "      <td>-0.207091</td>\n",
       "      <td>0.085034</td>\n",
       "      <td>0.706454</td>\n",
       "      <td>0</td>\n",
       "    </tr>\n",
       "    <tr>\n",
       "      <th>108</th>\n",
       "      <td>0.182783</td>\n",
       "      <td>0</td>\n",
       "      <td>0.365618</td>\n",
       "      <td>-0.007077</td>\n",
       "      <td>0</td>\n",
       "      <td>-0.284552</td>\n",
       "      <td>-0.823006</td>\n",
       "      <td>-0.545412</td>\n",
       "      <td>0</td>\n",
       "    </tr>\n",
       "    <tr>\n",
       "      <th>65</th>\n",
       "      <td>-0.069846</td>\n",
       "      <td>0</td>\n",
       "      <td>-0.530462</td>\n",
       "      <td>-1.530560</td>\n",
       "      <td>0</td>\n",
       "      <td>1.458319</td>\n",
       "      <td>-2.185066</td>\n",
       "      <td>-0.855152</td>\n",
       "      <td>1</td>\n",
       "    </tr>\n",
       "    <tr>\n",
       "      <th>183</th>\n",
       "      <td>1.193302</td>\n",
       "      <td>0</td>\n",
       "      <td>-0.498459</td>\n",
       "      <td>-0.007077</td>\n",
       "      <td>1</td>\n",
       "      <td>1.071014</td>\n",
       "      <td>-0.595996</td>\n",
       "      <td>0.409620</td>\n",
       "      <td>1</td>\n",
       "    </tr>\n",
       "  </tbody>\n",
       "</table>\n",
       "</div>"
      ],
      "text/plain": [
       "          age  anaemia  creatinine_phosphokinase  ejection_fraction  \\\n",
       "179 -0.490896        0                  0.261350           0.162199   \n",
       "196 -1.332995        0                  0.000166          -0.007077   \n",
       "108  0.182783        0                  0.365618          -0.007077   \n",
       "65  -0.069846        0                 -0.530462          -1.530560   \n",
       "183  1.193302        0                 -0.498459          -0.007077   \n",
       "\n",
       "     high_blood_pressure  serum_creatinine  serum_sodium      time  \\\n",
       "179                    0         -0.671857      0.766064  0.216033   \n",
       "196                    1         -0.207091      0.085034  0.706454   \n",
       "108                    0         -0.284552     -0.823006 -0.545412   \n",
       "65                     0          1.458319     -2.185066 -0.855152   \n",
       "183                    1          1.071014     -0.595996  0.409620   \n",
       "\n",
       "     DEATH_EVENT  \n",
       "179            0  \n",
       "196            0  \n",
       "108            0  \n",
       "65             1  \n",
       "183            1  "
      ]
     },
     "execution_count": 18,
     "metadata": {},
     "output_type": "execute_result"
    }
   ],
   "source": [
    "# IDEM al anterior pero con los elementos de test\n",
    "x_test.merge(y_test,left_index=True,right_index=True).head()"
   ]
  },
  {
   "cell_type": "markdown",
   "id": "0457a605",
   "metadata": {
    "papermill": {
     "duration": 0.027024,
     "end_time": "2023-05-22T02:54:20.950247",
     "exception": false,
     "start_time": "2023-05-22T02:54:20.923223",
     "status": "completed"
    },
    "tags": []
   },
   "source": [
    "**5.4. Ajuste de Hiperparametros**"
   ]
  },
  {
   "cell_type": "code",
   "execution_count": 19,
   "id": "3bed78fe",
   "metadata": {
    "execution": {
     "iopub.execute_input": "2023-05-22T02:54:21.008149Z",
     "iopub.status.busy": "2023-05-22T02:54:21.007659Z",
     "iopub.status.idle": "2023-05-22T02:54:21.522994Z",
     "shell.execute_reply": "2023-05-22T02:54:21.521527Z"
    },
    "papermill": {
     "duration": 0.548089,
     "end_time": "2023-05-22T02:54:21.526121",
     "exception": false,
     "start_time": "2023-05-22T02:54:20.978032",
     "status": "completed"
    },
    "tags": []
   },
   "outputs": [
    {
     "data": {
      "text/plain": [
       "{'C': 2, 'max_iter': 100}"
      ]
     },
     "execution_count": 19,
     "metadata": {},
     "output_type": "execute_result"
    }
   ],
   "source": [
    "# Obtener los mejores valores para 'C'y para 'max_iter'\n",
    "parameters = {'max_iter':[100, 200, 500], 'C':[1,2,5]}\n",
    "lr = LogisticRegression()\n",
    "mdl = GridSearchCV(lr, parameters)\n",
    "mdl.fit(x_train,y_train)\n",
    "y_pred = mdl.predict(x_test)\n",
    "mdl.best_params_"
   ]
  },
  {
   "cell_type": "markdown",
   "id": "b133e56b",
   "metadata": {
    "papermill": {
     "duration": 0.0267,
     "end_time": "2023-05-22T02:54:21.580130",
     "exception": false,
     "start_time": "2023-05-22T02:54:21.553430",
     "status": "completed"
    },
    "tags": []
   },
   "source": [
    "**PASO 6. VALIDACION**"
   ]
  },
  {
   "cell_type": "markdown",
   "id": "943285ff",
   "metadata": {
    "papermill": {
     "duration": 0.028057,
     "end_time": "2023-05-22T02:54:21.635031",
     "exception": false,
     "start_time": "2023-05-22T02:54:21.606974",
     "status": "completed"
    },
    "tags": []
   },
   "source": [
    "**6.1. Matriz de confusion**"
   ]
  },
  {
   "cell_type": "code",
   "execution_count": 20,
   "id": "aec357d1",
   "metadata": {
    "_kg_hide-input": false,
    "execution": {
     "iopub.execute_input": "2023-05-22T02:54:21.694772Z",
     "iopub.status.busy": "2023-05-22T02:54:21.693857Z",
     "iopub.status.idle": "2023-05-22T02:54:21.966524Z",
     "shell.execute_reply": "2023-05-22T02:54:21.965165Z"
    },
    "papermill": {
     "duration": 0.305509,
     "end_time": "2023-05-22T02:54:21.969314",
     "exception": false,
     "start_time": "2023-05-22T02:54:21.663805",
     "status": "completed"
    },
    "tags": []
   },
   "outputs": [
    {
     "data": {
      "image/png": "[encoded data removed]",
      "text/plain": [
       "<Figure size 640x480 with 2 Axes>"
      ]
     },
     "metadata": {},
     "output_type": "display_data"
    }
   ],
   "source": [
    "# -Esquina superior izquierda: Verdaderos Positivos\n",
    "# -Esquina inferior izquierda: Falsos Negativos\n",
    "# -Esquina superior derecha: Falsos Positivos\n",
    "# -Esquina inferior derecha: Verdaderos Negativos\n",
    "cm = confusion_matrix(y_test, y_pred)\n",
    "disp = ConfusionMatrixDisplay(confusion_matrix=cm)\n",
    "disp.plot()\n",
    "plt.show()"
   ]
  },
  {
   "cell_type": "markdown",
   "id": "3805e0e5",
   "metadata": {
    "papermill": {
     "duration": 0.027787,
     "end_time": "2023-05-22T02:54:22.024701",
     "exception": false,
     "start_time": "2023-05-22T02:54:21.996914",
     "status": "completed"
    },
    "tags": []
   },
   "source": [
    "**6.2. Precision del modelo**"
   ]
  },
  {
   "cell_type": "code",
   "execution_count": 21,
   "id": "5b66f6c0",
   "metadata": {
    "_kg_hide-input": false,
    "execution": {
     "iopub.execute_input": "2023-05-22T02:54:22.084918Z",
     "iopub.status.busy": "2023-05-22T02:54:22.084013Z",
     "iopub.status.idle": "2023-05-22T02:54:22.093701Z",
     "shell.execute_reply": "2023-05-22T02:54:22.092230Z"
    },
    "papermill": {
     "duration": 0.045357,
     "end_time": "2023-05-22T02:54:22.097854",
     "exception": false,
     "start_time": "2023-05-22T02:54:22.052497",
     "status": "completed"
    },
    "tags": []
   },
   "outputs": [
    {
     "name": "stdout",
     "output_type": "stream",
     "text": [
      "La precision del modelo de Regresion Logistica es del 91.67%\n"
     ]
    }
   ],
   "source": [
    "precision = accuracy_score(y_test, y_pred)*100\n",
    "precision = round(precision, 2)\n",
    "print(f'La precision del modelo de Regresion Logistica es del {precision}%')"
   ]
  },
  {
   "cell_type": "markdown",
   "id": "faffa5e6",
   "metadata": {
    "papermill": {
     "duration": 0.034332,
     "end_time": "2023-05-22T02:54:22.165019",
     "exception": false,
     "start_time": "2023-05-22T02:54:22.130687",
     "status": "completed"
    },
    "tags": []
   },
   "source": [
    "**6.3. Reporte de clasificacion**"
   ]
  },
  {
   "cell_type": "code",
   "execution_count": 22,
   "id": "97cdcccc",
   "metadata": {
    "execution": {
     "iopub.execute_input": "2023-05-22T02:54:22.223540Z",
     "iopub.status.busy": "2023-05-22T02:54:22.222645Z",
     "iopub.status.idle": "2023-05-22T02:54:22.234714Z",
     "shell.execute_reply": "2023-05-22T02:54:22.233068Z"
    },
    "papermill": {
     "duration": 0.044446,
     "end_time": "2023-05-22T02:54:22.237416",
     "exception": false,
     "start_time": "2023-05-22T02:54:22.192970",
     "status": "completed"
    },
    "tags": []
   },
   "outputs": [
    {
     "name": "stdout",
     "output_type": "stream",
     "text": [
      "              precision    recall  f1-score   support\n",
      "\n",
      "           0       0.93      0.95      0.94        43\n",
      "           1       0.88      0.82      0.85        17\n",
      "\n",
      "    accuracy                           0.92        60\n",
      "   macro avg       0.90      0.89      0.90        60\n",
      "weighted avg       0.92      0.92      0.92        60\n",
      "\n"
     ]
    }
   ],
   "source": [
    "print(classification_report(y_test, y_pred))"
   ]
  },
  {
   "cell_type": "markdown",
   "id": "dfb8c7fc",
   "metadata": {},
   "source": [
    "**PASO 7. EVALUACION DEL MODELO**"
   ]
  },
  {
   "cell_type": "code",
   "execution_count": 23,
   "id": "b3efff8f",
   "metadata": {},
   "outputs": [
    {
     "name": "stdout",
     "output_type": "stream",
     "text": [
      "[1]\n",
      "Paciente fallecido\n"
     ]
    }
   ],
   "source": [
    "# DATOS DE NUESTRO PACIENTE:\n",
    "# 1. Age of the patient (Years) [40, ..., 95]\n",
    "# 2. anaemia = # Decrease of red blood cells or hemoglobin (Boolean) 0, 1\n",
    "# 3. creatinine_phosphokinase: Level of the CPK enzyme in the blood (mcg/L) [23, ..., 7861]\n",
    "# 4. ejection_fraction = # Percentage of blood leaving (Percentage) [14, ..., 80]\n",
    "# 5. high_blood_pressure = # If a patient has hypertension (Boolean) 0, 1\n",
    "# 6. serum_creatinine = # Level of creatinine in the blood (mg/dL) [0.50, ..., 9.40]\n",
    "# 7. serum_sodium = # Level of sodium in the blood (mEq/L) [114, ..., 148]\n",
    "# 8. time = # Follow-up period (Days) [4,...,285]\n",
    "\n",
    "lr = LogisticRegression(max_iter=100, C=2) \n",
    "lr.fit(x_train, y_train)\n",
    "\n",
    "# Aqui se han tomado 4 registros aleatorios de ejemplo con datos reales para\n",
    "# comprobar que el resultado coincide con el dataset original\n",
    "datos_paciente_2 = [[75,0,582,20,1,1.9,130,4]] # Registro 2 en el dataset original. Dato real: 1.Prediccion: 1\n",
    "datos_paciente_16 = [[49,1,80,30,1,1,138,12]] # Registro 16. Dato real: 0. Prediccion: 0\n",
    "datos_paciente_154 = [[50,0,115,45,1,0.9,134,118]] # Registro 154. Dato real: 0. Prediccion: 0\n",
    "datos_paciente_50 = [[80,1,553,20,1,4.4,133,41]] # Registro . Dato real: 1. Prediccion: 1\n",
    "\n",
    "# Seleccionamos cualquiera de los ejemplos anteriores\n",
    "# paciente_a_evaluar = datos_paciente_154\n",
    "paciente_a_evaluar = [[78,1,500,19,1,4.9,134,36]] # Datos inventados\n",
    "\n",
    "predictions = lr.predict(paciente_a_evaluar)\n",
    "print(predictions)\n",
    "if predictions[0]==1:\n",
    "    print('Paciente fallecido')\n",
    "else:\n",
    "    print('Paciente sano')"
   ]
  },
  {
   "cell_type": "markdown",
   "metadata": {},
   "source": [
    "**PASO 8. ESTIMACION DE TIEMPO APROXIMADA EN QUE SE PRODUCIRA EL EVENTO MUERTE**"
   ]
  },
  {
   "cell_type": "code",
   "execution_count": 24,
   "metadata": {},
   "outputs": [],
   "source": [
    "# Para estimar el tiempo, vamos a comparar datos del paciente en prueba\n",
    "# con todos los pacientes fallecidos. Y vamos a ver que porcentajes de similitud obtenemos.\n",
    "# Primero crearemos un df con solo fallecidos usando el df despues de eliminar las columnas\n",
    "# menos relevantes y antes de normalizar (df_reducido)\n",
    "df_fallecidos = df_reducido[df_reducido['DEATH_EVENT'] == 1].reset_index(drop=True)\n",
    "# Eliminamos la columna DEATH_EVENT de este df ya que aqui todos la tienen a 1\n",
    "df_fallecidos = df_fallecidos.drop('DEATH_EVENT', axis=1)"
   ]
  },
  {
   "cell_type": "code",
   "execution_count": 25,
   "metadata": {},
   "outputs": [
    {
     "name": "stdout",
     "output_type": "stream",
     "text": [
      "[82.0, 0.0, 70.0, 30.0, 0.0, 1.2, 132.0, 26.0]\n"
     ]
    }
   ],
   "source": [
    "# Funcion para extraer en forma de lista los datos de un paciente determinado\n",
    "# dentro de la lista de fallecidos\n",
    "def datos_paciente(registro):\n",
    "    # Convierte el registro en una lista     \n",
    "    registro_lista = df_fallecidos.iloc[registro].values.tolist()       \n",
    "    return registro_lista\n",
    "\n",
    "datos_paciente_x = datos_paciente(26)\n",
    "print(datos_paciente_x)"
   ]
  },
  {
   "cell_type": "markdown",
   "metadata": {},
   "source": [
    "**PASO 9. ESTIMACION DE TIEMPO EN QUE PODRIA PRODUCIRSE UNA ECV (Enfermedad Cardio-Vascular)**"
   ]
  },
  {
   "cell_type": "code",
   "execution_count": 26,
   "metadata": {},
   "outputs": [
    {
     "name": "stdout",
     "output_type": "stream",
     "text": [
      "El paciente más similar es el registro: 42\n",
      "Coeficiente de similitud: 99.96 %\n",
      "Datos paciente fallecido:  [80.0, 1.0, 553.0, 20.0, 1.0, 4.4, 133.0, 41.0]\n",
      "Datos paciente a evaluar:  [[78, 1, 500, 19, 1, 4.9, 134, 36]]\n",
      "RESULTADO FINAL: \n",
      "Tiene un 99.96% de padecer una ECV en aprox. 41 dias.\n"
     ]
    }
   ],
   "source": [
    "# Lista para almacenar los coeficientes de similitud coseno\n",
    "similitudes = []\n",
    "\n",
    "# Calcular la similitud coseno entre el paciente en evaluación y todos los pacientes en df_fallecidos\n",
    "for i in range(len(df_fallecidos)):\n",
    "    paciente_fallecido = datos_paciente(i)\n",
    "    paciente_fallecido = [paciente_fallecido]\n",
    "\n",
    "    # Convertir los datos a un formato adecuado para calcular la similitud coseno\n",
    "    datos = paciente_a_evaluar + paciente_fallecido    \n",
    "    datos = np.array(datos)    \n",
    "\n",
    "    # Calcular la similitud coseno\n",
    "    similitud = cosine_similarity(datos)\n",
    "\n",
    "    # Almacenar el coeficiente de similitud\n",
    "    similitudes.append(similitud[0, 1])\n",
    "\n",
    "# Encontrar el índice del paciente con mayor similitud coseno\n",
    "indice_max_similitud = np.argmax(similitudes)\n",
    "\n",
    "# Conversion de indice a porcentaje \n",
    "porcentaje_similitud = (similitudes[indice_max_similitud])*100\n",
    "porcentaje_similitud = round(porcentaje_similitud, 2)\n",
    "\n",
    "# Imprimir el registro del paciente con mayor similitud\n",
    "print(\"El paciente más similar es el registro:\", indice_max_similitud)\n",
    "print(\"Coeficiente de similitud:\", porcentaje_similitud, '%')\n",
    "\n",
    "# Obtiene los datos de la línea que mayor puntaje ha dado\n",
    "datos_fallecido = df_fallecidos.iloc[indice_max_similitud].tolist()\n",
    "# Calculo dias\n",
    "dias = int(datos_fallecido[7])\n",
    "# Imprime la lista de datos\n",
    "print('Datos paciente fallecido: ', datos_fallecido)\n",
    "print('Datos paciente a evaluar: ', paciente_a_evaluar)\n",
    "print('RESULTADO FINAL: ')\n",
    "print(f'Tiene un {porcentaje_similitud}% de padecer una ECV en aprox. {dias} dias.')"
   ]
  },
  {
   "cell_type": "markdown",
   "metadata": {},
   "source": [
    "**ANEXO. CALCULO DEL PORCENTAJE REAL DE ACIERTOS CON EL DATASET ORIGINAL**"
   ]
  },
  {
   "cell_type": "code",
   "execution_count": 27,
   "metadata": {},
   "outputs": [
    {
     "name": "stdout",
     "output_type": "stream",
     "text": [
      "Registros que coinciden: [0, 1, 2, 3, 4, 5, 6, 9, 10, 11, 12, 13, 15, 16, 17, 18, 19, 21, 22, 23, 24, 25, 26, 27, 28, 29, 30, 31, 32, 35, 36, 37, 39, 40, 41, 42, 45, 46, 48, 49, 50, 51, 52, 54, 55, 57, 58, 59, 60, 61, 62, 64, 65, 66, 67, 68, 69, 70, 71, 72, 73, 74, 75, 76, 77, 79, 81, 82, 84, 85, 86, 87, 88, 89, 90, 91, 92, 93, 94, 95, 97, 99, 101, 103, 104, 105, 106, 107, 108, 109, 111, 114, 115, 116, 117, 118, 119, 120, 121, 122, 123, 124, 125, 126, 127, 128, 129, 130, 132, 133, 135, 136, 138, 139, 141, 142, 143, 144, 145, 146, 147, 148, 149, 151, 152, 153, 154, 155, 156, 157, 158, 159, 160, 161, 162, 166, 167, 168, 169, 170, 171, 172, 173, 174, 175, 176, 177, 178, 179, 180, 188, 189, 190, 191, 192, 193, 196, 197, 198, 199, 200, 201, 202, 203, 204, 205, 206, 207, 208, 209, 210, 211, 212, 214, 215, 216, 218, 219, 221, 222, 223, 224, 225, 226, 227, 229, 231, 232, 233, 234, 235, 236, 237, 238, 239, 240, 241, 242, 243, 244, 245, 247, 248, 249, 250, 251, 252, 253, 254, 255, 256, 257, 258, 259, 260, 261, 263, 264, 265, 267, 268, 269, 270, 271, 272, 273, 274, 275, 276, 277, 278, 279, 280, 281, 282, 283, 284, 285, 286, 287, 288, 289, 290, 291, 292, 293, 294, 295, 296, 297, 298]\n",
      "251\n",
      "Registros que no coinciden: [7, 8, 14, 20, 33, 34, 38, 43, 44, 47, 53, 56, 63, 78, 80, 83, 96, 98, 100, 102, 110, 112, 113, 131, 134, 137, 140, 150, 163, 164, 165, 181, 182, 183, 184, 185, 186, 187, 194, 195, 213, 217, 220, 228, 230, 246, 262, 266]\n",
      "48\n",
      "Linear Regression Success Rate: 91.67%\n",
      "El porcentaje de aciertos es del 83.95 %\n",
      "Para mas informacion sobre el puntaje vea el reporte de clasificacion. Punto 6.3\n"
     ]
    }
   ],
   "source": [
    "# ESTE CODIGO SIRVE PARA COMPROBAR CON TODO EL DATASET\n",
    "# EN CUANTOS REGISTROS COINCIDE LA PREDICCION CON LOS DATOS REALES\n",
    "# En este caso 251 aciertos y 48 fallos que es mas o menos el porcentaje de precision del modelo\n",
    "\n",
    "# Modelo de regresión logística \n",
    "lr = LogisticRegression(max_iter=100, C=2)\n",
    "\n",
    "# Entrenar el modelo\n",
    "lr.fit(x_train, y_train)\n",
    "\n",
    "# Listas para los registros que coinciden y no coinciden\n",
    "registros_coinciden = []\n",
    "registros_no_coinciden = []\n",
    "\n",
    "# Recorrer cada fila en el DataFrame df\n",
    "for index, row in df.iterrows():\n",
    "    # Seleccionar las características de este paciente (fila)\n",
    "    paciente_data = row[['age', 'anaemia', 'creatinine_phosphokinase', 'ejection_fraction', 'high_blood_pressure', 'serum_creatinine', 'serum_sodium', 'time']].values.reshape(1, -1)\n",
    "    \n",
    "    # Realizar una predicción utilizando el modelo\n",
    "    prediccion = lr.predict(paciente_data)\n",
    "    \n",
    "    # Obtener el valor real de DEATH_EVENT para esta fila\n",
    "    valor_real = row['DEATH_EVENT']\n",
    "    \n",
    "    # Comparar la predicción con el valor real y agregar la fila al resultado correspondiente\n",
    "    if prediccion == valor_real:\n",
    "        registros_coinciden.append(index)\n",
    "    else:\n",
    "        registros_no_coinciden.append(index)\n",
    "\n",
    "# Mostrar los resultados\n",
    "print(\"Registros que coinciden:\", registros_coinciden)\n",
    "print(len(registros_coinciden))\n",
    "print(\"Registros que no coinciden:\", registros_no_coinciden)\n",
    "print(len(registros_no_coinciden))\n",
    "\n",
    "# Calcular la precisión del modelo en el conjunto de datos de prueba\n",
    "p1_logisticRegression = lr.predict(x_test)\n",
    "s1_logisticRegression = accuracy_score(y_test, p1_logisticRegression)\n",
    "print(\"Linear Regression Success Rate:\", \"{:.2f}%\".format(100 * s1_logisticRegression))\n",
    "\n",
    "# Calcular el porcentaje de aciertos en base a los datos obtenidos\n",
    "total_registros = len(df)\n",
    "aciertos = len(registros_coinciden)\n",
    "porcentaje_aciertos = aciertos*100/total_registros\n",
    "porcentaje_aciertos = round(porcentaje_aciertos, 2)\n",
    "print('El porcentaje de aciertos es del', porcentaje_aciertos, '%')\n",
    "print('Para mas informacion sobre el puntaje vea el reporte de clasificacion. Punto 6.3')"
   ]
  }
 ],
 "metadata": {
  "kernelspec": {
   "display_name": "Python 3",
   "language": "python",
   "name": "python3"
  },
  "language_info": {
   "codemirror_mode": {
    "name": "ipython",
    "version": 3
   },
   "file_extension": ".py",
   "mimetype": "text/x-python",
   "name": "python",
   "nbconvert_exporter": "python",
   "pygments_lexer": "ipython3",
   "version": "3.11.4"
  },
  "papermill": {
   "default_parameters": {},
   "duration": 24.918529,
   "end_time": "2023-05-22T02:54:23.246221",
   "environment_variables": {},
   "exception": null,
   "input_path": "__notebook__.ipynb",
   "output_path": "__notebook__.ipynb",
   "parameters": {},
   "start_time": "2023-05-22T02:53:58.327692",
   "version": "2.4.0"
  }
 },
 "nbformat": 4,
 "nbformat_minor": 5
}
